{
 "cells": [
  {
   "cell_type": "markdown",
   "id": "a40f1df8",
   "metadata": {},
   "source": [
    "\n",
    "# List 1\n",
    "\n",
    "Krzysztof Jankowski"
   ]
  },
  {
   "cell_type": "markdown",
   "id": "b0dca24b",
   "metadata": {},
   "source": [
    "\n",
    "## Imports\n"
   ]
  },
  {
   "cell_type": "code",
   "execution_count": 1,
   "id": "b96626be",
   "metadata": {},
   "outputs": [],
   "source": [
    "import numpy as np\n",
    "from pydantic import validate_call, PositiveInt\n",
    "from enum import Enum, auto\n",
    "import matplotlib.pyplot as plt\n",
    "from tqdm import tqdm\n",
    "from collections import defaultdict\n",
    "import logging\n",
    "from functools import lru_cache, cache"
   ]
  },
  {
   "cell_type": "code",
   "execution_count": 2,
   "id": "14e506c4",
   "metadata": {},
   "outputs": [],
   "source": [
    "logger = logging.getLogger(__name__)"
   ]
  },
  {
   "cell_type": "code",
   "execution_count": 3,
   "id": "0623c030",
   "metadata": {},
   "outputs": [],
   "source": [
    "class State(Enum):\n",
    "    positive = auto()\n",
    "    negative = auto()"
   ]
  },
  {
   "cell_type": "markdown",
   "id": "278318f2",
   "metadata": {},
   "source": [
    "c0 <- initial concentration\n",
    "\n",
    "c+ <- positive opinion\n",
    "\n",
    "c- <- negative opinion\n",
    "\n",
    "$$\n",
    "c^+=\\frac{1}{N}\\sum^N_{i-1}\\frac{(S_i+1)}{2}\\in\\bigl[0,1\\bigr]\n",
    "$$\n",
    "\n",
    "$$\n",
    "c^-=1-c^+\n",
    "$$\n",
    "$$\n",
    "Pr(S_i(t=0)=1)=c_0\n",
    "$$"
   ]
  },
  {
   "cell_type": "code",
   "execution_count": 4,
   "id": "f3c132a1",
   "metadata": {},
   "outputs": [],
   "source": [
    "class SznajdModel:\n",
    "    @validate_call\n",
    "    def __init__(self, n: int, t: int, c0: float) -> None:\n",
    "        self.n = n\n",
    "        self.t = t\n",
    "        self.c0 = c0\n",
    "    \n",
    "    def run(self):\n",
    "        self._pre_init_simulation()\n",
    "        for i in range(self.t):\n",
    "            self._update(i)\n",
    "        \n",
    "    def _pre_init_simulation(self) -> None:\n",
    "        #Optimization stuff\n",
    "        self.graph = self._init_graph()\n",
    "        self.choice = np.random.randint(low=0, high=self.n-1, size=(self.t, self.n))\n",
    "    \n",
    "    def _init_graph(self) -> np.ndarray[State]:\n",
    "        init = np.random.choice(list(State), size=self.n, p=[self.c0, 1 - self.c0])\n",
    "        graph_evolution = np.ndarray((self.t+1, self.n), dtype=State)\n",
    "        graph_evolution[0,:] = init\n",
    "        return graph_evolution\n",
    "    \n",
    "    def _update(self, step: PositiveInt):\n",
    "        \"\"\"Each update corresponds with n atomic updates. From the other side we \n",
    "        store simulation in frame (t + 1 x n) that means we apply for each row \n",
    "        state after n atomic updates.\n",
    "        \n",
    "        In that case, at first, we copy state (row) from the previous update or \n",
    "        init state, to the current updated row. Have in mind that first row is \n",
    "        an initial state. Therefore i-th update row corresponds with i-th + 1\n",
    "        graph evolution row. \n",
    "        \"\"\"\n",
    "        self.graph[step+1,:] = self.graph[step,:]\n",
    "        for substep in self.choice[step]:\n",
    "            if self.graph[step+1][substep] == self.graph[step+1][(substep + 1) % self.n]:\n",
    "                self._agreement_update(step+1, substep)\n",
    "            else:\n",
    "                self._disagreement_update(step+1, substep)\n",
    "            \n",
    "    \n",
    "    def _agreement_update(self, step: int, pos: int) -> None:\n",
    "        state = self.graph[step][pos]\n",
    "        self.graph[step, (pos - 1) % self.n] = state\n",
    "        self.graph[step, (pos + 2) % self.n] = state\n",
    "    \n",
    "    def _disagreement_update(self, step: int, pos: int) -> None:\n",
    "        self.graph[step][(pos - 1) % self.n] = self.graph[step][(pos + 1) % self.n]\n",
    "        self.graph[step][(pos + 2) % self.n] = self.graph[step][pos]\n",
    "    \n",
    "    def get_graph_evolution(self) -> np.ndarray:\n",
    "        return np.vectorize(lambda x: x.value)(self.graph)\n"
   ]
  },
  {
   "cell_type": "code",
   "execution_count": 5,
   "id": "e5c71964",
   "metadata": {},
   "outputs": [],
   "source": [
    "class SznajdModel_v2(SznajdModel):\n",
    "    \"\"\"Do nothing variant\"\"\"\n",
    "    def _disagreement_update(self, step: int, pos: int) -> None: ...\n",
    "    "
   ]
  },
  {
   "cell_type": "code",
   "execution_count": 6,
   "id": "10318941",
   "metadata": {},
   "outputs": [],
   "source": [
    "def task_2() -> None:\n",
    "    n = 100\n",
    "    t = 100\n",
    "    c_inits = [0.25, 0.5, 0.75]\n",
    "    \n",
    "    fig, axes = plt.subplots(2, 3, figsize=(12, 8), sharey=True, sharex=True)\n",
    "    for idx, c in enumerate(c_inits):\n",
    "        model = SznajdModel(n, t, c)\n",
    "        model.run()\n",
    "        \n",
    "        current_ax = axes.flatten()[idx]\n",
    "        current_ax.imshow(model.get_graph_evolution(), cmap='viridis', interpolation='nearest')\n",
    "        current_ax.set_title(f\"USDF, $c_0={c}$\")\n",
    "\n",
    "    for idx, c in enumerate(c_inits):\n",
    "        model = SznajdModel_v2(n, t, c)\n",
    "        model.run()\n",
    "        \n",
    "        current_ax = axes.flatten()[idx + 3]\n",
    "        current_ax.imshow(model.get_graph_evolution(), cmap='viridis', interpolation='nearest')\n",
    "        current_ax.set_title(f\"Do nothing, $c_0={c}$\")\n",
    "        current_ax.set_xlabel(\"State\")\n",
    "    axes.flatten()[0].set_ylabel(\"T\")\n",
    "    axes.flatten()[4].set_ylabel(\"T\")\n",
    "    fig.suptitle(\"Sznajd Model evolution\")\n",
    "    fig.tight_layout()\n",
    "        "
   ]
  },
  {
   "cell_type": "code",
   "execution_count": 7,
   "id": "eb3438d9",
   "metadata": {},
   "outputs": [
    {
     "data": {
      "image/png": "[encoded data removed]",
      "text/plain": [
       "<Figure size 1200x800 with 6 Axes>"
      ]
     },
     "metadata": {},
     "output_type": "display_data"
    }
   ],
   "source": [
    "task_2()"
   ]
  },
  {
   "cell_type": "code",
   "execution_count": 8,
   "id": "32b69220",
   "metadata": {},
   "outputs": [],
   "source": [
    "class SteadyState(Enum):\n",
    "    negative = auto()\n",
    "    positive = auto()\n",
    "    disagreement = auto()"
   ]
  },
  {
   "cell_type": "code",
   "execution_count": 9,
   "id": "d89fef63",
   "metadata": {},
   "outputs": [],
   "source": [
    "class SznajdModel_v3(SznajdModel):\n",
    "    \n",
    "    def run_since_steady(self):\n",
    "        \"\"\"In that case t is used as a buffer size to, do not overwrite list \n",
    "        for each time. It is not a graceful feature, but reusing already \n",
    "        existing dimension.\n",
    "        \"\"\"\n",
    "        self._pre_init_simulation()\n",
    "        i = 0\n",
    "        while not self._is_steady_state(i):\n",
    "            self._update(i)\n",
    "            i += 1\n",
    "        self.steps_since_steady = i\n",
    "        \n",
    "    def get_steady_state(self) -> SteadyState:\n",
    "        state = self.graph[(self.steps_since_steady) % (self.t  + 1), :]\n",
    "        if all(s == State.positive for s in state):\n",
    "            return SteadyState.positive\n",
    "        elif all(s == State.negative for s in state):\n",
    "            return SteadyState.negative\n",
    "        elif (\n",
    "            all(state[0] == s for s in state[::2])\n",
    "            and all(state[1] == s for s in state[1::2])\n",
    "        ):\n",
    "            return SteadyState.disagreement\n",
    "    \n",
    "    def _is_steady_state(self, step: int) -> bool:\n",
    "        state = self.graph[step % (self.t + 1), 0]\n",
    "        all_agree = all(state == s for s in self.graph[step % (self.t + 1), :])\n",
    "        state2 = self.graph[step % (self.t + 1), 1]\n",
    "        all_disagree = (\n",
    "            all(state == s for s in self.graph[step % (self.t + 1), ::2])\n",
    "            and all(state2 == s for s in self.graph[step % (self.t + 1), 1::2])\n",
    "        )\n",
    "        return all_agree or all_disagree\n",
    "    \n",
    "    def _update(self, step: PositiveInt):\n",
    "        \"\"\"Each update corresponds with n atomic updates. From the other side we \n",
    "        store simulation in frame (t + 1 x n) that means we apply for each row \n",
    "        state after n atomic updates.\n",
    "        \n",
    "        In that case, at first, we copy state (row) from the previous update or \n",
    "        init state, to the current updated row. Have in mind that first row is \n",
    "        graph evolution row.\n",
    "        \n",
    "        In this case we unify this update to allow endless operating since \n",
    "        steady state exciding. If the time axis is overriden we reiterate. \n",
    "        \"\"\"\n",
    "        if step >= len(self.graph):\n",
    "            self._clear_cache()\n",
    "        self.graph[(step+1) % (self.t + 1),:] = self.graph[step % (self.t + 1),:]\n",
    "        for substep in self.choice[step % self.t]:\n",
    "            if self.graph[(step+1) % (self.t + 1), substep] == self.graph[(step+1) % (self.t + 1), (substep + 1) % self.n]:\n",
    "                self._agreement_update((step+1) % (self.t + 1), substep)\n",
    "            else:\n",
    "                self._disagreement_update((step+1) % (self.t + 1), substep)\n",
    "            \n",
    "    \n",
    "    def _clear_cache(self):\n",
    "        self.graph[0,:] = self.graph[self.t, :]\n",
    "        self.choice = np.random.randint(low=0, high=self.n-1, size=(self.t, self.n))\n"
   ]
  },
  {
   "cell_type": "code",
   "execution_count": 10,
   "id": "689039d1",
   "metadata": {},
   "outputs": [],
   "source": [
    "class SznajdModel_v4(SznajdModel_v3):\n",
    "    \"\"\"Do nothing variant\"\"\"\n",
    "    def _disagreement_update(self, step: int, pos: int) -> None: ...\n",
    "    "
   ]
  },
  {
   "cell_type": "code",
   "execution_count": 11,
   "id": "08470ab5",
   "metadata": {},
   "outputs": [],
   "source": [
    "def _get_steady_sates__no_cache(n: int, c_inits: np.ndarray, runs_count: int):\n",
    "    buffer_size = 100\n",
    "    runs_ucdf = defaultdict(list)\n",
    "    runs_dn = defaultdict(list)\n",
    "    for c in c_inits:\n",
    "        print(f\"Running simulations for c={c}...\")\n",
    "        model_ucdf = SznajdModel_v3(n=n, t=buffer_size, c0=c)\n",
    "        model_dn = SznajdModel_v4(n=n, t=buffer_size, c0=c)\n",
    "        for _ in tqdm(range(runs_count)):\n",
    "            model_ucdf.run_since_steady()\n",
    "            runs_ucdf[c].append(model_ucdf.get_steady_state())\n",
    "        for _ in tqdm(range(runs_count)):\n",
    "            model_dn.run_since_steady()\n",
    "            runs_dn[c].append(model_dn.get_steady_state())\n",
    "        \n",
    "    return {\"dn\": runs_dn, \"ucdf\": runs_ucdf}\n",
    "\n",
    "\n",
    "@lru_cache(maxsize=9)\n",
    "def _get_steady_sates__cache(n: int, c_inits_tuple: tuple, runs_count: int):\n",
    "    c_inits = np.array(c_inits_tuple)\n",
    "    return _get_steady_sates__no_cache(n, c_inits, runs_count)"
   ]
  },
  {
   "cell_type": "code",
   "execution_count": 56,
   "id": "cc948ffb",
   "metadata": {},
   "outputs": [],
   "source": [
    "def task3(cache: bool = True):\n",
    "    n = 100\n",
    "    runs_count = 100\n",
    "    c_inits = np.arange(0.0, 1.001, 0.05)\n",
    "    \n",
    "    runs = (\n",
    "        _get_steady_sates__cache(n, tuple(c_inits), runs_count) if cache\n",
    "        else _get_steady_sates__no_cache(n, c_inits, runs_count)\n",
    "    )\n",
    "    ucdf_means: dict[str, float] = {}\n",
    "    dn_means: dict[str, float] = {}\n",
    "    for state in SteadyState:\n",
    "        ucdf_means[state.name] = dict(map(lambda kv: (kv[0], np.sum(np.fromiter((s==state for s in kv[1]), dtype=float) / len(kv[1]))), runs[\"ucdf\"].items()))\n",
    "        dn_means[state.name] = dict(map(lambda kv: (kv[0], np.sum(np.fromiter((s==state for s in kv[1]), dtype=float) / len(kv[1]))), runs[\"dn\"].items()))\n",
    "    print(ucdf_means)\n",
    "    \n",
    "    "
   ]
  },
  {
   "cell_type": "code",
   "execution_count": 57,
   "id": "866205a7",
   "metadata": {},
   "outputs": [
    {
     "name": "stdout",
     "output_type": "stream",
     "text": [
      "{'negative': {np.float64(0.0): np.float64(0.9999999999999999), np.float64(0.05): np.float64(0.8899999999999999), np.float64(0.1): np.float64(0.75), np.float64(0.15000000000000002): np.float64(0.73), np.float64(0.2): np.float64(0.71), np.float64(0.25): np.float64(0.55), np.float64(0.30000000000000004): np.float64(0.49), np.float64(0.35000000000000003): np.float64(0.32), np.float64(0.4): np.float64(0.35000000000000003), np.float64(0.45): np.float64(0.34), np.float64(0.5): np.float64(0.24000000000000002), np.float64(0.55): np.float64(0.25), np.float64(0.6000000000000001): np.float64(0.16000000000000003), np.float64(0.65): np.float64(0.1), np.float64(0.7000000000000001): np.float64(0.1), np.float64(0.75): np.float64(0.1), np.float64(0.8): np.float64(0.09), np.float64(0.8500000000000001): np.float64(0.04), np.float64(0.9): np.float64(0.01), np.float64(0.9500000000000001): np.float64(0.0), np.float64(1.0): np.float64(0.0)}, 'positive': {np.float64(0.0): np.float64(0.0), np.float64(0.05): np.float64(0.0), np.float64(0.1): np.float64(0.02), np.float64(0.15000000000000002): np.float64(0.01), np.float64(0.2): np.float64(0.03), np.float64(0.25): np.float64(0.04), np.float64(0.30000000000000004): np.float64(0.08), np.float64(0.35000000000000003): np.float64(0.09999999999999999), np.float64(0.4): np.float64(0.13), np.float64(0.45): np.float64(0.2), np.float64(0.5): np.float64(0.25), np.float64(0.55): np.float64(0.32), np.float64(0.6000000000000001): np.float64(0.4), np.float64(0.65): np.float64(0.41000000000000003), np.float64(0.7000000000000001): np.float64(0.56), np.float64(0.75): np.float64(0.6200000000000001), np.float64(0.8): np.float64(0.5900000000000001), np.float64(0.8500000000000001): np.float64(0.78), np.float64(0.9): np.float64(0.84), np.float64(0.9500000000000001): np.float64(0.8999999999999999), np.float64(1.0): np.float64(0.9999999999999999)}, 'disagreement': {np.float64(0.0): np.float64(0.0), np.float64(0.05): np.float64(0.11), np.float64(0.1): np.float64(0.23), np.float64(0.15000000000000002): np.float64(0.26), np.float64(0.2): np.float64(0.26), np.float64(0.25): np.float64(0.41000000000000003), np.float64(0.30000000000000004): np.float64(0.43000000000000005), np.float64(0.35000000000000003): np.float64(0.5800000000000001), np.float64(0.4): np.float64(0.52), np.float64(0.45): np.float64(0.4600000000000001), np.float64(0.5): np.float64(0.51), np.float64(0.55): np.float64(0.43000000000000005), np.float64(0.6000000000000001): np.float64(0.44000000000000006), np.float64(0.65): np.float64(0.49), np.float64(0.7000000000000001): np.float64(0.34), np.float64(0.75): np.float64(0.28), np.float64(0.8): np.float64(0.32000000000000006), np.float64(0.8500000000000001): np.float64(0.18), np.float64(0.9): np.float64(0.15000000000000002), np.float64(0.9500000000000001): np.float64(0.09999999999999999), np.float64(1.0): np.float64(0.0)}}\n"
     ]
    }
   ],
   "source": [
    "out = task3()"
   ]
  },
  {
   "cell_type": "code",
   "execution_count": null,
   "id": "f0c84878",
   "metadata": {},
   "outputs": [],
   "source": [
    "def task4():\n",
    "    ns = [100, 200, 400]\n",
    "    buffer_size = 100\n",
    "    c_inits = np.arange(0.0, 1.0, 0.05)\n",
    "    runs_count = 100\n",
    "    runs = defaultdict(list)\n",
    "    for c in c_inits:\n",
    "        print(f\"Running simulations for c={c}...\")\n",
    "        model = SznajdModel_v4(n=n, t=buffer_size, c0=c)\n",
    "        for _ in tqdm(range(runs_count)):\n",
    "            model.run_since_steady()\n",
    "            runs[c].append(model.steps_since_steady)\n",
    "    return runs\n",
    "    \n",
    "def task4(alpha: float, cache: bool = True):\n",
    "    ns = [100, 200, 400]\n",
    "    for n in ns:\n",
    "        runs = (\n",
    "            _get_steps_unitl_steady_state__cache(n) if cache \n",
    "            else _get_steps_unitl_steady_state__cache(n)\n",
    "        )\n",
    "    ucdf_mean_times = dict(map(lambda kv: (kv[0], np.mean(kv[1])), runs[\"ucdf\"].items()))\n",
    "    dn_mean_times = dict(map(lambda kv: (kv[0], np.mean(kv[1])), runs[\"dn\"].items()))\n",
    "\n",
    "def _get_steps_unitl_steady_state__no_cache(n: int):\n",
    "    buffer_size = 100\n",
    "    c_inits = np.arange(0.0, 1.0, 0.05)\n",
    "    runs_count = 100\n",
    "    runs_ucdf = defaultdict(list)\n",
    "    runs_dn = defaultdict(list)\n",
    "    for c in c_inits:\n",
    "        print(f\"Running simulations for c={c}...\")\n",
    "        model_ucdf = SznajdModel_v3(n=n, t=buffer_size, c0=c)\n",
    "        model_dn = SznajdModel_v4(n=n, t=buffer_size, c0=c)\n",
    "        for _ in tqdm(range(runs_count)):\n",
    "            model_ucdf.run_since_steady()\n",
    "            runs_ucdf[c].append(model.steps_since_steady)\n",
    "        for _ in tqdm(range(runs_count)):\n",
    "            model_dn.run_since_steady()\n",
    "            runs_dn[c].append(model.steps_since_steady)\n",
    "    return {\"dn\":runs_dn, \"ucdf\": runs_ucdf}\n",
    "\n",
    "\n",
    "@lru_cache(maxsize=3)\n",
    "def _get_steps_unitl_steady_state__cache(n: int):\n",
    "    return _get_steps_unitl_steady_state__no_cache(n)"
   ]
  },
  {
   "cell_type": "code",
   "execution_count": null,
   "id": "06898707",
   "metadata": {},
   "outputs": [],
   "source": [
    "_get_steps_unitl_steady_state__cache(10)"
   ]
  }
 ],
 "metadata": {
  "kernelspec": {
   "display_name": "studies",
   "language": "python",
   "name": "python3"
  },
  "language_info": {
   "codemirror_mode": {
    "name": "ipython",
    "version": 3
   },
   "file_extension": ".py",
   "mimetype": "text/x-python",
   "name": "python",
   "nbconvert_exporter": "python",
   "pygments_lexer": "ipython3",
   "version": "3.12.3"
  }
 },
 "nbformat": 4,
 "nbformat_minor": 5
}
