{
 "cells": [
  {
   "cell_type": "markdown",
   "id": "a40f1df8",
   "metadata": {},
   "source": [
    "\n",
    "# List 1\n",
    "\n",
    "Krzysztof Jankowski"
   ]
  },
  {
   "cell_type": "markdown",
   "id": "b0dca24b",
   "metadata": {},
   "source": [
    "\n",
    "## Imports\n"
   ]
  },
  {
   "cell_type": "code",
   "execution_count": 8,
   "id": "b96626be",
   "metadata": {},
   "outputs": [],
   "source": [
    "import numpy as np\n",
    "from pydantic import validate_call, PositiveInt\n",
    "from enum import Enum, auto\n",
    "import matplotlib.pyplot as plt"
   ]
  },
  {
   "cell_type": "code",
   "execution_count": 2,
   "id": "0623c030",
   "metadata": {},
   "outputs": [],
   "source": [
    "class State(Enum):\n",
    "    positive = auto()\n",
    "    negative = auto()"
   ]
  },
  {
   "cell_type": "markdown",
   "id": "278318f2",
   "metadata": {},
   "source": [
    "c0 <- initial concentration\n",
    "\n",
    "c+ <- positive opinion\n",
    "\n",
    "c- <- negative opinion\n",
    "\n",
    "$$\n",
    "c^+=\\frac{1}{N}\\sum^N_{i-1}\\frac{(S_i+1)}{2}\\in\\bigl[0,1\\bigr]\n",
    "$$\n",
    "\n",
    "$$\n",
    "c^-=1-c^+\n",
    "$$\n",
    "$$\n",
    "Pr(S_i(t=0)=1)=c_0\n",
    "$$"
   ]
  },
  {
   "cell_type": "code",
   "execution_count": 91,
   "id": "f3c132a1",
   "metadata": {},
   "outputs": [],
   "source": [
    "class SznajdModel:\n",
    "    @validate_call\n",
    "    def __init__(self, n: int, t: int, c0: float) -> None:\n",
    "        self.n = n\n",
    "        self.t = t\n",
    "        self.c0 = c0\n",
    "    \n",
    "    def run(self):\n",
    "        self._pre_init_simulation()\n",
    "        for i in range(self.t):\n",
    "            self._update(i)\n",
    "        \n",
    "    def _pre_init_simulation(self) -> None:\n",
    "        #Optimization stuff\n",
    "        self.graph = self._init_graph()\n",
    "        self.choice = np.random.randint(low=0, high=self.n-1, size=(self.t, self.n))\n",
    "    \n",
    "    def _init_graph(self) -> np.ndarray[State]:\n",
    "        init = np.random.choice(list(State), size=self.n, p=[self.c0, 1 - self.c0])\n",
    "        graph_evolution = np.ndarray((self.t+1, self.n), dtype=State)\n",
    "        graph_evolution[0,:] = init\n",
    "        return graph_evolution\n",
    "    \n",
    "    def _update(self, step: PositiveInt):\n",
    "        \"\"\"Each update corresponds with n atomic updates. From the other side we \n",
    "        store simulation in frame (t + 1 x n) that means we apply for each row \n",
    "        state after n atomic updates.\n",
    "        \n",
    "        In that case, at first, we copy state (row) from the previous update or \n",
    "        init state, to the current updated row. Have in mind that first row is \n",
    "        an initial state. Therefore i-th update row corresponds with i-th + 1\n",
    "        graph evolution row. \n",
    "        \"\"\"\n",
    "        self.graph[step+1,:] = self.graph[step,:]\n",
    "        for substep in self.choice[step]:\n",
    "            if self.graph[step+1][substep] == self.graph[step+1][(substep + 1) % self.n]:\n",
    "                self._agreement_update(step+1, substep)\n",
    "            else:\n",
    "                self._disagreement_update(step+1, substep)\n",
    "            \n",
    "    \n",
    "    def _agreement_update(self, step: int, pos: int) -> None:\n",
    "        state = self.graph[step][pos]\n",
    "        self.graph[step, (pos - 1) % self.n] = state\n",
    "        self.graph[step, (pos + 2) % self.n] = state\n",
    "    \n",
    "    def _disagreement_update(self, step: int, pos: int) -> None:\n",
    "        self.graph[step][(pos - 1) % self.n] = self.graph[step][(pos + 1) % self.n]\n",
    "        self.graph[step][(pos + 2) % self.n] = self.graph[step][pos]\n",
    "    \n",
    "    def get_graph_evolution(self) -> np.ndarray:\n",
    "        return np.vectorize(lambda x: x.value)(self.graph)\n",
    "    "
   ]
  },
  {
   "cell_type": "code",
   "execution_count": 92,
   "id": "10318941",
   "metadata": {},
   "outputs": [],
   "source": [
    "def task_1() -> None:\n",
    "    n = 100\n",
    "    t = 100\n",
    "    c_inits = [0.25, 0.5, 0.75]\n",
    "    \n",
    "    fig, axes = plt.subplots(1, 3, figsize=(12, 4), sharey=True)\n",
    "    for idx, c in enumerate(c_inits):\n",
    "        model = SznajdModel(n, t, c)\n",
    "        model.run()\n",
    "        \n",
    "        current_ax = axes.flatten()[idx]\n",
    "        current_ax.imshow(model.get_graph_evolution(), cmap='viridis', interpolation='nearest')\n",
    "        current_ax.set_title(f\"$c_0={c}$\")\n",
    "        current_ax.set_xlabel(\"State\")\n",
    "    axes.flatten()[0].set_ylabel(\"T\")\n",
    "    fig.suptitle(\"Sznajd Model USDF evolution\")\n",
    "    fig.tight_layout()\n",
    "        "
   ]
  },
  {
   "cell_type": "code",
   "execution_count": 94,
   "id": "eb3438d9",
   "metadata": {},
   "outputs": [
    {
     "data": {
      "image/png": "[encoded data removed]",
      "text/plain": [
       "<Figure size 1200x400 with 3 Axes>"
      ]
     },
     "metadata": {},
     "output_type": "display_data"
    }
   ],
   "source": [
    "task_1()"
   ]
  },
  {
   "cell_type": "code",
   "execution_count": null,
   "id": "d89fef63",
   "metadata": {},
   "outputs": [],
   "source": [
    "class SznajdModel:\n",
    "    @validate_call\n",
    "    def __init__(self, n: int, t: int, c0: float) -> None:\n",
    "        self.n = n\n",
    "        self.t = t\n",
    "        self.c0 = c0\n",
    "    \n",
    "    def run(self):\n",
    "        self._pre_init_simulation()\n",
    "        for i in range(self.t):\n",
    "            self._update(i)\n",
    "        \n",
    "    def _pre_init_simulation(self) -> None:\n",
    "        #Optimization stuff\n",
    "        self.graph = self._init_graph()\n",
    "        self.choice = np.random.randint(low=0, high=self.n-1, size=(self.t, self.n))\n",
    "    \n",
    "    def _init_graph(self) -> np.ndarray[State]:\n",
    "        init = np.random.choice(list(State), size=self.n, p=[self.c0, 1 - self.c0])\n",
    "        graph_evolution = np.ndarray((self.t+1, self.n), dtype=State)\n",
    "        graph_evolution[0,:] = init\n",
    "        return graph_evolution\n",
    "    \n",
    "    def _update(self, step: PositiveInt):\n",
    "        \"\"\"Each update corresponds with n atomic updates. From the other side we \n",
    "        store simulation in frame (t + 1 x n) that means we apply for each row \n",
    "        state after n atomic updates.\n",
    "        \n",
    "        In that case, at first, we copy state (row) from the previous update or \n",
    "        init state, to the current updated row. Have in mind that first row is \n",
    "        an initial state. Therefore i-th update row corresponds with i-th + 1\n",
    "        graph evolution row. \n",
    "        \"\"\"\n",
    "        self.graph[step+1,:] = self.graph[step,:]\n",
    "        for substep in self.choice[step]:\n",
    "            if self.graph[step+1][substep] == self.graph[step+1][(substep + 1) % self.n]:\n",
    "                self._agreement_update(step+1, substep)\n",
    "            else:\n",
    "                self._disagreement_update(step+1, substep)\n",
    "            \n",
    "    \n",
    "    def _agreement_update(self, step: int, pos: int) -> None:\n",
    "        state = self.graph[step][pos]\n",
    "        self.graph[step, (pos - 1) % self.n] = state\n",
    "        self.graph[step, (pos + 2) % self.n] = state\n",
    "    \n",
    "    def _disagreement_update(self, step: int, pos: int) -> None:\n",
    "        self.graph[step][(pos - 1) % self.n] = self.graph[step][(pos + 1) % self.n]\n",
    "        self.graph[step][(pos + 2) % self.n] = self.graph[step][pos]\n",
    "    \n",
    "    def get_graph_evolution(self) -> np.ndarray:\n",
    "        return np.vectorize(lambda x: x.value)(self.graph)\n",
    "    "
   ]
  },
  {
   "cell_type": "code",
   "execution_count": null,
   "id": "95af2e4a",
   "metadata": {},
   "outputs": [],
   "source": []
  },
  {
   "cell_type": "code",
   "execution_count": null,
   "id": "8dbfd1d5",
   "metadata": {},
   "outputs": [],
   "source": []
  }
 ],
 "metadata": {
  "kernelspec": {
   "display_name": "studies",
   "language": "python",
   "name": "python3"
  },
  "language_info": {
   "codemirror_mode": {
    "name": "ipython",
    "version": 3
   },
   "file_extension": ".py",
   "mimetype": "text/x-python",
   "name": "python",
   "nbconvert_exporter": "python",
   "pygments_lexer": "ipython3",
   "version": "3.12.3"
  }
 },
 "nbformat": 4,
 "nbformat_minor": 5
}
