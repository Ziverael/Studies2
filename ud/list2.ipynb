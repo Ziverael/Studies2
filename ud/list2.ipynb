{
 "cells": [
  {
   "cell_type": "markdown",
   "id": "78cf71b3",
   "metadata": {},
   "source": [
    "# List 2"
   ]
  },
  {
   "cell_type": "code",
   "execution_count": 22,
   "id": "49686862",
   "metadata": {},
   "outputs": [],
   "source": [
    "from datetime import timedelta, date\n",
    "from matplotlib.animation import FuncAnimation\n",
    "import imaplib\n",
    "from pydantic_settings import BaseSettings,SettingsConfigDict\n",
    "from emails.gmail import  GmailIMAP\n",
    "from emails.model import  Response\n",
    "from typing import Any\n",
    "from functools import lru_cache\n",
    "import polars as pl\n",
    "import matplotlib.pyplot as plt\n",
    "from pathlib import Path\n",
    "import pickle\n",
    "import calendar\n",
    "import networkx as nx\n",
    "from utils import with_pickle"
   ]
  },
  {
   "cell_type": "code",
   "execution_count": 2,
   "id": "315c65f8",
   "metadata": {},
   "outputs": [],
   "source": [
    "class UserAuth(BaseSettings):\n",
    "    model_config = SettingsConfigDict(frozen=True, env_file=\".env\", env_prefix=\"gmail_\")\n",
    "    \n",
    "    user: str\n",
    "    password: str\n",
    "    imap_url: str = \"imap.gmail.com\"\n",
    "    \n",
    "    @property\n",
    "    def connection(self):\n",
    "        return imaplib.IMAP4_SSL(self.imap_url) \n",
    "    "
   ]
  },
  {
   "cell_type": "code",
   "execution_count": 3,
   "id": "387709bc",
   "metadata": {},
   "outputs": [],
   "source": [
    "USER_AUTH = UserAuth()"
   ]
  },
  {
   "cell_type": "code",
   "execution_count": 4,
   "id": "6850edb5",
   "metadata": {},
   "outputs": [],
   "source": [
    "def get_message_count(manager: GmailIMAP) -> int:\n",
    "    resp = manager.select(\"INBOX\")\n",
    "    if not resp.ok:\n",
    "        raise SystemExit(\"Cannot open INBOX\")\n",
    "    return resp.message_count"
   ]
  },
  {
   "cell_type": "code",
   "execution_count": 5,
   "id": "5f37633f",
   "metadata": {},
   "outputs": [],
   "source": [
    "@lru_cache(maxsize=1)\n",
    "def get_messages(manager: GmailIMAP, count: int = 100, batch_size: int = 20):\n",
    "    messages = []\n",
    "    messages_no = min(count, get_message_count(manager))\n",
    "    fails_coutner = 0\n",
    "    print(f\"Messages to read: {messages_no}.\")\n",
    "    for i in range (1, messages_no + 1, batch_size):\n",
    "        responses = manager.fetch_messages(range(i, i + batch_size))\n",
    "        for resp in responses:\n",
    "            if resp.ok and resp.message:\n",
    "                messages.append(resp)\n",
    "            else:\n",
    "                fails_coutner += 1\n",
    "    print(f\"Successfully read {len(messages)}.\")\n",
    "    print(f\"Fails with {fails_coutner}.\")\n",
    "    return messages"
   ]
  },
  {
   "cell_type": "markdown",
   "id": "a6363cee",
   "metadata": {},
   "source": [
    "# Frequency analysis"
   ]
  },
  {
   "cell_type": "code",
   "execution_count": 6,
   "id": "08631d14",
   "metadata": {},
   "outputs": [],
   "source": [
    "def analyze_freq_pattern(manager: GmailIMAP, message_max_limit: int = 100, batch_size: int = 100):\n",
    "    messages = get_messages(manager, message_max_limit, batch_size)\n",
    "    dates = pl.DataFrame({\"Time\": [m.message.date for m in messages]})\n",
    "    return dates\n"
   ]
  },
  {
   "cell_type": "code",
   "execution_count": 7,
   "id": "4efd9b55",
   "metadata": {},
   "outputs": [
    {
     "name": "stdout",
     "output_type": "stream",
     "text": [
      "CPU times: user 3.37 ms, sys: 2.86 ms, total: 6.23 ms\n",
      "Wall time: 6.41 ms\n"
     ]
    },
    {
     "ename": "gaierror",
     "evalue": "[Errno -3] Temporary failure in name resolution",
     "output_type": "error",
     "traceback": [
      "\u001b[31m---------------------------------------------------------------------------\u001b[39m",
      "\u001b[31mgaierror\u001b[39m                                  Traceback (most recent call last)",
      "\u001b[36mCell\u001b[39m\u001b[36m \u001b[39m\u001b[32mIn[7]\u001b[39m\u001b[32m, line 1\u001b[39m\n\u001b[32m----> \u001b[39m\u001b[32m1\u001b[39m \u001b[43mget_ipython\u001b[49m\u001b[43m(\u001b[49m\u001b[43m)\u001b[49m\u001b[43m.\u001b[49m\u001b[43mrun_cell_magic\u001b[49m\u001b[43m(\u001b[49m\u001b[33;43m'\u001b[39;49m\u001b[33;43mtime\u001b[39;49m\u001b[33;43m'\u001b[39;49m\u001b[43m,\u001b[49m\u001b[43m \u001b[49m\u001b[33;43m'\u001b[39;49m\u001b[33;43m'\u001b[39;49m\u001b[43m,\u001b[49m\u001b[43m \u001b[49m\u001b[33;43m'\u001b[39;49m\u001b[33;43mMAILS_TO_DOWNLOAD = 1000 \u001b[39;49m\u001b[38;5;130;43;01m\\n\u001b[39;49;00m\u001b[33;43mBATCH_SIZE = 100\u001b[39;49m\u001b[38;5;130;43;01m\\n\u001b[39;49;00m\u001b[33;43mimap = GmailIMAP(USER_AUTH.user, USER_AUTH.password)\u001b[39;49m\u001b[38;5;130;43;01m\\n\u001b[39;49;00m\u001b[33;43mdates = analyze_freq_pattern(imap, MAILS_TO_DOWNLOAD, BATCH_SIZE)\u001b[39;49m\u001b[38;5;130;43;01m\\n\u001b[39;49;00m\u001b[33;43mimap.conn.logout()\u001b[39;49m\u001b[38;5;130;43;01m\\n\u001b[39;49;00m\u001b[33;43m'\u001b[39;49m\u001b[43m)\u001b[49m\n",
      "\u001b[36mFile \u001b[39m\u001b[32m~/Documents/Studies/.venv/lib/python3.12/site-packages/IPython/core/interactiveshell.py:2565\u001b[39m, in \u001b[36mInteractiveShell.run_cell_magic\u001b[39m\u001b[34m(self, magic_name, line, cell)\u001b[39m\n\u001b[32m   2563\u001b[39m \u001b[38;5;28;01mwith\u001b[39;00m \u001b[38;5;28mself\u001b[39m.builtin_trap:\n\u001b[32m   2564\u001b[39m     args = (magic_arg_s, cell)\n\u001b[32m-> \u001b[39m\u001b[32m2565\u001b[39m     result = \u001b[43mfn\u001b[49m\u001b[43m(\u001b[49m\u001b[43m*\u001b[49m\u001b[43margs\u001b[49m\u001b[43m,\u001b[49m\u001b[43m \u001b[49m\u001b[43m*\u001b[49m\u001b[43m*\u001b[49m\u001b[43mkwargs\u001b[49m\u001b[43m)\u001b[49m\n\u001b[32m   2567\u001b[39m \u001b[38;5;66;03m# The code below prevents the output from being displayed\u001b[39;00m\n\u001b[32m   2568\u001b[39m \u001b[38;5;66;03m# when using magics with decorator @output_can_be_silenced\u001b[39;00m\n\u001b[32m   2569\u001b[39m \u001b[38;5;66;03m# when the last Python token in the expression is a ';'.\u001b[39;00m\n\u001b[32m   2570\u001b[39m \u001b[38;5;28;01mif\u001b[39;00m \u001b[38;5;28mgetattr\u001b[39m(fn, magic.MAGIC_OUTPUT_CAN_BE_SILENCED, \u001b[38;5;28;01mFalse\u001b[39;00m):\n",
      "\u001b[36mFile \u001b[39m\u001b[32m~/Documents/Studies/.venv/lib/python3.12/site-packages/IPython/core/magics/execution.py:1452\u001b[39m, in \u001b[36mExecutionMagics.time\u001b[39m\u001b[34m(self, line, cell, local_ns)\u001b[39m\n\u001b[32m   1450\u001b[39m \u001b[38;5;28;01mif\u001b[39;00m interrupt_occured:\n\u001b[32m   1451\u001b[39m     \u001b[38;5;28;01mif\u001b[39;00m exit_on_interrupt \u001b[38;5;129;01mand\u001b[39;00m captured_exception:\n\u001b[32m-> \u001b[39m\u001b[32m1452\u001b[39m         \u001b[38;5;28;01mraise\u001b[39;00m captured_exception\n\u001b[32m   1453\u001b[39m     \u001b[38;5;28;01mreturn\u001b[39;00m\n\u001b[32m   1454\u001b[39m \u001b[38;5;28;01mreturn\u001b[39;00m out\n",
      "\u001b[36mFile \u001b[39m\u001b[32m~/Documents/Studies/.venv/lib/python3.12/site-packages/IPython/core/magics/execution.py:1416\u001b[39m, in \u001b[36mExecutionMagics.time\u001b[39m\u001b[34m(self, line, cell, local_ns)\u001b[39m\n\u001b[32m   1414\u001b[39m st = clock2()\n\u001b[32m   1415\u001b[39m \u001b[38;5;28;01mtry\u001b[39;00m:\n\u001b[32m-> \u001b[39m\u001b[32m1416\u001b[39m     \u001b[43mexec\u001b[49m\u001b[43m(\u001b[49m\u001b[43mcode\u001b[49m\u001b[43m,\u001b[49m\u001b[43m \u001b[49m\u001b[43mglob\u001b[49m\u001b[43m,\u001b[49m\u001b[43m \u001b[49m\u001b[43mlocal_ns\u001b[49m\u001b[43m)\u001b[49m\n\u001b[32m   1417\u001b[39m     out = \u001b[38;5;28;01mNone\u001b[39;00m\n\u001b[32m   1418\u001b[39m     \u001b[38;5;66;03m# multi-line %%time case\u001b[39;00m\n",
      "\u001b[36mFile \u001b[39m\u001b[32m<timed exec>:3\u001b[39m\n",
      "\u001b[36mFile \u001b[39m\u001b[32m~/Documents/Studies/aoud/emails/gmail.py:40\u001b[39m, in \u001b[36mGmailIMAP.__init__\u001b[39m\u001b[34m(self, user, password, host)\u001b[39m\n\u001b[32m     39\u001b[39m \u001b[38;5;28;01mdef\u001b[39;00m\u001b[38;5;250m \u001b[39m\u001b[34m__init__\u001b[39m(\u001b[38;5;28mself\u001b[39m, user: \u001b[38;5;28mstr\u001b[39m, password: \u001b[38;5;28mstr\u001b[39m, host: \u001b[38;5;28mstr\u001b[39m = \u001b[33m\"\u001b[39m\u001b[33mimap.gmail.com\u001b[39m\u001b[33m\"\u001b[39m):\n\u001b[32m---> \u001b[39m\u001b[32m40\u001b[39m     \u001b[38;5;28mself\u001b[39m.conn = \u001b[43mimaplib\u001b[49m\u001b[43m.\u001b[49m\u001b[43mIMAP4_SSL\u001b[49m\u001b[43m(\u001b[49m\u001b[43mhost\u001b[49m\u001b[43m)\u001b[49m\n\u001b[32m     41\u001b[39m     \u001b[38;5;28mself\u001b[39m.conn.login(user, password)\n",
      "\u001b[36mFile \u001b[39m\u001b[32m/usr/lib/python3.12/imaplib.py:1306\u001b[39m, in \u001b[36mIMAP4_SSL.__init__\u001b[39m\u001b[34m(self, host, port, ssl_context, timeout)\u001b[39m\n\u001b[32m   1304\u001b[39m     ssl_context = ssl._create_stdlib_context()\n\u001b[32m   1305\u001b[39m \u001b[38;5;28mself\u001b[39m.ssl_context = ssl_context\n\u001b[32m-> \u001b[39m\u001b[32m1306\u001b[39m \u001b[43mIMAP4\u001b[49m\u001b[43m.\u001b[49m\u001b[34;43m__init__\u001b[39;49m\u001b[43m(\u001b[49m\u001b[38;5;28;43mself\u001b[39;49m\u001b[43m,\u001b[49m\u001b[43m \u001b[49m\u001b[43mhost\u001b[49m\u001b[43m,\u001b[49m\u001b[43m \u001b[49m\u001b[43mport\u001b[49m\u001b[43m,\u001b[49m\u001b[43m \u001b[49m\u001b[43mtimeout\u001b[49m\u001b[43m)\u001b[49m\n",
      "\u001b[36mFile \u001b[39m\u001b[32m/usr/lib/python3.12/imaplib.py:202\u001b[39m, in \u001b[36mIMAP4.__init__\u001b[39m\u001b[34m(self, host, port, timeout)\u001b[39m\n\u001b[32m    198\u001b[39m \u001b[38;5;28mself\u001b[39m._mode_ascii()\n\u001b[32m    200\u001b[39m \u001b[38;5;66;03m# Open socket to server.\u001b[39;00m\n\u001b[32m--> \u001b[39m\u001b[32m202\u001b[39m \u001b[38;5;28;43mself\u001b[39;49m\u001b[43m.\u001b[49m\u001b[43mopen\u001b[49m\u001b[43m(\u001b[49m\u001b[43mhost\u001b[49m\u001b[43m,\u001b[49m\u001b[43m \u001b[49m\u001b[43mport\u001b[49m\u001b[43m,\u001b[49m\u001b[43m \u001b[49m\u001b[43mtimeout\u001b[49m\u001b[43m)\u001b[49m\n\u001b[32m    204\u001b[39m \u001b[38;5;28;01mtry\u001b[39;00m:\n\u001b[32m    205\u001b[39m     \u001b[38;5;28mself\u001b[39m._connect()\n",
      "\u001b[36mFile \u001b[39m\u001b[32m/usr/lib/python3.12/imaplib.py:1319\u001b[39m, in \u001b[36mIMAP4_SSL.open\u001b[39m\u001b[34m(self, host, port, timeout)\u001b[39m\n\u001b[32m   1313\u001b[39m \u001b[38;5;28;01mdef\u001b[39;00m\u001b[38;5;250m \u001b[39m\u001b[34mopen\u001b[39m(\u001b[38;5;28mself\u001b[39m, host=\u001b[33m'\u001b[39m\u001b[33m'\u001b[39m, port=IMAP4_SSL_PORT, timeout=\u001b[38;5;28;01mNone\u001b[39;00m):\n\u001b[32m   1314\u001b[39m \u001b[38;5;250m    \u001b[39m\u001b[33;03m\"\"\"Setup connection to remote server on \"host:port\".\u001b[39;00m\n\u001b[32m   1315\u001b[39m \u001b[33;03m        (default: localhost:standard IMAP4 SSL port).\u001b[39;00m\n\u001b[32m   1316\u001b[39m \u001b[33;03m    This connection will be used by the routines:\u001b[39;00m\n\u001b[32m   1317\u001b[39m \u001b[33;03m        read, readline, send, shutdown.\u001b[39;00m\n\u001b[32m   1318\u001b[39m \u001b[33;03m    \"\"\"\u001b[39;00m\n\u001b[32m-> \u001b[39m\u001b[32m1319\u001b[39m     \u001b[43mIMAP4\u001b[49m\u001b[43m.\u001b[49m\u001b[43mopen\u001b[49m\u001b[43m(\u001b[49m\u001b[38;5;28;43mself\u001b[39;49m\u001b[43m,\u001b[49m\u001b[43m \u001b[49m\u001b[43mhost\u001b[49m\u001b[43m,\u001b[49m\u001b[43m \u001b[49m\u001b[43mport\u001b[49m\u001b[43m,\u001b[49m\u001b[43m \u001b[49m\u001b[43mtimeout\u001b[49m\u001b[43m)\u001b[49m\n",
      "\u001b[36mFile \u001b[39m\u001b[32m/usr/lib/python3.12/imaplib.py:312\u001b[39m, in \u001b[36mIMAP4.open\u001b[39m\u001b[34m(self, host, port, timeout)\u001b[39m\n\u001b[32m    310\u001b[39m \u001b[38;5;28mself\u001b[39m.host = host\n\u001b[32m    311\u001b[39m \u001b[38;5;28mself\u001b[39m.port = port\n\u001b[32m--> \u001b[39m\u001b[32m312\u001b[39m \u001b[38;5;28mself\u001b[39m.sock = \u001b[38;5;28;43mself\u001b[39;49m\u001b[43m.\u001b[49m\u001b[43m_create_socket\u001b[49m\u001b[43m(\u001b[49m\u001b[43mtimeout\u001b[49m\u001b[43m)\u001b[49m\n\u001b[32m    313\u001b[39m \u001b[38;5;28mself\u001b[39m.file = \u001b[38;5;28mself\u001b[39m.sock.makefile(\u001b[33m'\u001b[39m\u001b[33mrb\u001b[39m\u001b[33m'\u001b[39m)\n",
      "\u001b[36mFile \u001b[39m\u001b[32m/usr/lib/python3.12/imaplib.py:1309\u001b[39m, in \u001b[36mIMAP4_SSL._create_socket\u001b[39m\u001b[34m(self, timeout)\u001b[39m\n\u001b[32m   1308\u001b[39m \u001b[38;5;28;01mdef\u001b[39;00m\u001b[38;5;250m \u001b[39m\u001b[34m_create_socket\u001b[39m(\u001b[38;5;28mself\u001b[39m, timeout):\n\u001b[32m-> \u001b[39m\u001b[32m1309\u001b[39m     sock = \u001b[43mIMAP4\u001b[49m\u001b[43m.\u001b[49m\u001b[43m_create_socket\u001b[49m\u001b[43m(\u001b[49m\u001b[38;5;28;43mself\u001b[39;49m\u001b[43m,\u001b[49m\u001b[43m \u001b[49m\u001b[43mtimeout\u001b[49m\u001b[43m)\u001b[49m\n\u001b[32m   1310\u001b[39m     \u001b[38;5;28;01mreturn\u001b[39;00m \u001b[38;5;28mself\u001b[39m.ssl_context.wrap_socket(sock,\n\u001b[32m   1311\u001b[39m                                         server_hostname=\u001b[38;5;28mself\u001b[39m.host)\n",
      "\u001b[36mFile \u001b[39m\u001b[32m/usr/lib/python3.12/imaplib.py:302\u001b[39m, in \u001b[36mIMAP4._create_socket\u001b[39m\u001b[34m(self, timeout)\u001b[39m\n\u001b[32m    300\u001b[39m \u001b[38;5;28;01mif\u001b[39;00m timeout \u001b[38;5;129;01mis\u001b[39;00m \u001b[38;5;129;01mnot\u001b[39;00m \u001b[38;5;28;01mNone\u001b[39;00m:\n\u001b[32m    301\u001b[39m     \u001b[38;5;28;01mreturn\u001b[39;00m socket.create_connection(address, timeout)\n\u001b[32m--> \u001b[39m\u001b[32m302\u001b[39m \u001b[38;5;28;01mreturn\u001b[39;00m \u001b[43msocket\u001b[49m\u001b[43m.\u001b[49m\u001b[43mcreate_connection\u001b[49m\u001b[43m(\u001b[49m\u001b[43maddress\u001b[49m\u001b[43m)\u001b[49m\n",
      "\u001b[36mFile \u001b[39m\u001b[32m/usr/lib/python3.12/socket.py:828\u001b[39m, in \u001b[36mcreate_connection\u001b[39m\u001b[34m(address, timeout, source_address, all_errors)\u001b[39m\n\u001b[32m    826\u001b[39m host, port = address\n\u001b[32m    827\u001b[39m exceptions = []\n\u001b[32m--> \u001b[39m\u001b[32m828\u001b[39m \u001b[38;5;28;01mfor\u001b[39;00m res \u001b[38;5;129;01min\u001b[39;00m \u001b[43mgetaddrinfo\u001b[49m\u001b[43m(\u001b[49m\u001b[43mhost\u001b[49m\u001b[43m,\u001b[49m\u001b[43m \u001b[49m\u001b[43mport\u001b[49m\u001b[43m,\u001b[49m\u001b[43m \u001b[49m\u001b[32;43m0\u001b[39;49m\u001b[43m,\u001b[49m\u001b[43m \u001b[49m\u001b[43mSOCK_STREAM\u001b[49m\u001b[43m)\u001b[49m:\n\u001b[32m    829\u001b[39m     af, socktype, proto, canonname, sa = res\n\u001b[32m    830\u001b[39m     sock = \u001b[38;5;28;01mNone\u001b[39;00m\n",
      "\u001b[36mFile \u001b[39m\u001b[32m/usr/lib/python3.12/socket.py:963\u001b[39m, in \u001b[36mgetaddrinfo\u001b[39m\u001b[34m(host, port, family, type, proto, flags)\u001b[39m\n\u001b[32m    960\u001b[39m \u001b[38;5;66;03m# We override this function since we want to translate the numeric family\u001b[39;00m\n\u001b[32m    961\u001b[39m \u001b[38;5;66;03m# and socket type values to enum constants.\u001b[39;00m\n\u001b[32m    962\u001b[39m addrlist = []\n\u001b[32m--> \u001b[39m\u001b[32m963\u001b[39m \u001b[38;5;28;01mfor\u001b[39;00m res \u001b[38;5;129;01min\u001b[39;00m \u001b[43m_socket\u001b[49m\u001b[43m.\u001b[49m\u001b[43mgetaddrinfo\u001b[49m\u001b[43m(\u001b[49m\u001b[43mhost\u001b[49m\u001b[43m,\u001b[49m\u001b[43m \u001b[49m\u001b[43mport\u001b[49m\u001b[43m,\u001b[49m\u001b[43m \u001b[49m\u001b[43mfamily\u001b[49m\u001b[43m,\u001b[49m\u001b[43m \u001b[49m\u001b[38;5;28;43mtype\u001b[39;49m\u001b[43m,\u001b[49m\u001b[43m \u001b[49m\u001b[43mproto\u001b[49m\u001b[43m,\u001b[49m\u001b[43m \u001b[49m\u001b[43mflags\u001b[49m\u001b[43m)\u001b[49m:\n\u001b[32m    964\u001b[39m     af, socktype, proto, canonname, sa = res\n\u001b[32m    965\u001b[39m     addrlist.append((_intenum_converter(af, AddressFamily),\n\u001b[32m    966\u001b[39m                      _intenum_converter(socktype, SocketKind),\n\u001b[32m    967\u001b[39m                      proto, canonname, sa))\n",
      "\u001b[31mgaierror\u001b[39m: [Errno -3] Temporary failure in name resolution"
     ]
    }
   ],
   "source": [
    "%%time\n",
    "MAILS_TO_DOWNLOAD = 1000 \n",
    "BATCH_SIZE = 100\n",
    "imap = GmailIMAP(USER_AUTH.user, USER_AUTH.password)\n",
    "dates = analyze_freq_pattern(imap, MAILS_TO_DOWNLOAD, BATCH_SIZE)\n",
    "imap.conn.logout()"
   ]
  },
  {
   "cell_type": "code",
   "execution_count": 8,
   "id": "57dac7ab",
   "metadata": {},
   "outputs": [],
   "source": [
    "is_written: bool = True\n",
    "if not is_written: \n",
    "    with Path(\"data/dates.pkl\").open(\"wb\") as f:\n",
    "        pickle.dump(dates, f)\n",
    "else:\n",
    "    with Path(\"data/dates.pkl\").open(\"rb\") as f:\n",
    "        dates = pickle.load(f)"
   ]
  },
  {
   "cell_type": "code",
   "execution_count": 9,
   "id": "1a1fece6",
   "metadata": {},
   "outputs": [
    {
     "data": {
      "text/html": [
       "<div><style>\n",
       ".dataframe > thead > tr,\n",
       ".dataframe > tbody > tr {\n",
       "  text-align: right;\n",
       "  white-space: pre-wrap;\n",
       "}\n",
       "</style>\n",
       "<small>shape: (12, 2)</small><table border=\"1\" class=\"dataframe\"><thead><tr><th>month</th><th>count</th></tr><tr><td>i8</td><td>u32</td></tr></thead><tbody><tr><td>1</td><td>122</td></tr><tr><td>2</td><td>127</td></tr><tr><td>3</td><td>155</td></tr><tr><td>4</td><td>96</td></tr><tr><td>5</td><td>57</td></tr><tr><td>&hellip;</td><td>&hellip;</td></tr><tr><td>8</td><td>7</td></tr><tr><td>9</td><td>19</td></tr><tr><td>10</td><td>153</td></tr><tr><td>11</td><td>175</td></tr><tr><td>12</td><td>50</td></tr></tbody></table></div>"
      ],
      "text/plain": [
       "shape: (12, 2)\n",
       "┌───────┬───────┐\n",
       "│ month ┆ count │\n",
       "│ ---   ┆ ---   │\n",
       "│ i8    ┆ u32   │\n",
       "╞═══════╪═══════╡\n",
       "│ 1     ┆ 122   │\n",
       "│ 2     ┆ 127   │\n",
       "│ 3     ┆ 155   │\n",
       "│ 4     ┆ 96    │\n",
       "│ 5     ┆ 57    │\n",
       "│ …     ┆ …     │\n",
       "│ 8     ┆ 7     │\n",
       "│ 9     ┆ 19    │\n",
       "│ 10    ┆ 153   │\n",
       "│ 11    ┆ 175   │\n",
       "│ 12    ┆ 50    │\n",
       "└───────┴───────┘"
      ]
     },
     "execution_count": 9,
     "metadata": {},
     "output_type": "execute_result"
    }
   ],
   "source": [
    "# daily_hist = (\n",
    "#     dates\n",
    "#     .with_columns(pl.col(\"Time\").dt.truncate(\"1d\").alias(\"day\"))\n",
    "#     .group_by(\"day\")\n",
    "#     .agg(pl.len().alias(\"count\"))\n",
    "#     .sort(\"day\")\n",
    "# )\n",
    "\n",
    "daily_hist = (\n",
    "    dates\n",
    "    .sort(\"Time\")\n",
    "    .group_by_dynamic(\n",
    "        index_column=\"Time\",\n",
    "        every=\"1d\",\n",
    "        closed=\"left\"\n",
    "    )\n",
    "    .agg(pl.len().alias(\"count\"))\n",
    ")\n",
    "\n",
    "daily_pattern = (\n",
    "    dates\n",
    "    .with_columns(pl.col(\"Time\").dt.hour().alias(\"hour\"))\n",
    "    .group_by(\"hour\")\n",
    "    .agg(pl.len().alias(\"count\"))\n",
    "    .sort(\"hour\")\n",
    ")\n",
    "\n",
    "monthly_pattern = (\n",
    "    dates\n",
    "    .with_columns(pl.col(\"Time\").dt.month().alias(\"month\"))\n",
    "    .group_by(\"month\")\n",
    "    .agg(pl.len().alias(\"count\"))\n",
    "    .sort(\"month\")\n",
    ")\n",
    "\n",
    "\n",
    "weekly_pattern = (\n",
    "    dates\n",
    "    .with_columns(pl.col(\"Time\").dt.weekday().alias(\"day\"))\n",
    "    .group_by(\"day\")\n",
    "    .agg(pl.len().alias(\"count\"))\n",
    "    .sort(\"day\")\n",
    ")\n",
    "daily_pattern\n",
    "monthly_pattern"
   ]
  },
  {
   "cell_type": "code",
   "execution_count": 10,
   "id": "8b6f83c6",
   "metadata": {},
   "outputs": [
    {
     "data": {
      "image/png": "[encoded data removed]",
      "text/plain": [
       "<Figure size 1200x400 with 3 Axes>"
      ]
     },
     "metadata": {},
     "output_type": "display_data"
    }
   ],
   "source": [
    "fig, axes = plt.subplots(1,3, figsize=(12,4))\n",
    "ax = axes.flatten()[0]\n",
    "ax.bar(daily_pattern[\"hour\"], daily_pattern[\"count\"])\n",
    "ax.set_xlabel(\"Time\")\n",
    "ax.set_ylabel(\"Count\")\n",
    "ax.set_title(\"Emails receiving time\")\n",
    "ax.set_xticks(range(0, 24, 2))\n",
    "ax.set_xticklabels((f\"{i}:00\" for i in range(0, 24, 2)), rotation=45, ha=\"right\")\n",
    "ax.grid(alpha=0.2)\n",
    "\n",
    "ax = axes.flatten()[1]\n",
    "month_names = list(calendar.month_abbr)[1:] # For some reason the first value is an additional empty string\n",
    "ax.bar(monthly_pattern[\"month\"], monthly_pattern[\"count\"])\n",
    "ax.set_xlabel(\"Month\")\n",
    "ax.set_ylabel(\"Count\")\n",
    "ax.set_title(\"Emails receiving month\")\n",
    "ax.set_xticks(range(1,13))\n",
    "ax.set_xticklabels(month_names, rotation=45, ha=\"right\")\n",
    "ax.grid(alpha=0.2)\n",
    "\n",
    "\n",
    "ax = axes.flatten()[2]\n",
    "weekday_names = list(calendar.day_abbr)\n",
    "ax.bar(weekly_pattern[\"day\"], weekly_pattern[\"count\"])\n",
    "ax.set_xlabel(\"Weekday\")\n",
    "ax.set_ylabel(\"Count\")\n",
    "ax.set_title(\"Emails receiving day\")\n",
    "ax.set_xticks(range(1,8))\n",
    "ax.set_xticklabels(weekday_names, rotation=45, ha=\"right\")\n",
    "ax.grid(alpha=0.2)\n"
   ]
  },
  {
   "cell_type": "code",
   "execution_count": 11,
   "id": "66ebe6b3",
   "metadata": {},
   "outputs": [],
   "source": [
    "daily_volume = (\n",
    "    daily_hist\n",
    "    .group_by(\"Time\")\n",
    "    .agg(pl.len().alias(\"count\"))\n",
    "    .with_columns(\n",
    "        pl.col(\"count\").cum_sum().alias(\"cumulative_count\")\n",
    "    )\n",
    ")"
   ]
  },
  {
   "cell_type": "code",
   "execution_count": 12,
   "id": "30a610d4",
   "metadata": {},
   "outputs": [
    {
     "data": {
      "image/png": "[encoded data removed]",
      "text/plain": [
       "<Figure size 640x480 with 1 Axes>"
      ]
     },
     "metadata": {},
     "output_type": "display_data"
    }
   ],
   "source": [
    "\n",
    "plt.plot(daily_volume[\"Time\"], daily_volume[\"cumulative_count\"])\n",
    "plt.xlabel(\"Date\")\n",
    "plt.ylabel(\"Volume\")\n",
    "plt.title(\"Daily histogram\")\n",
    "plt.xticks(rotation=45)\n",
    "plt.show()"
   ]
  },
  {
   "cell_type": "markdown",
   "id": "2658b478",
   "metadata": {},
   "source": [
    "# Network graph"
   ]
  },
  {
   "cell_type": "code",
   "execution_count": 13,
   "id": "f7a66a7a",
   "metadata": {},
   "outputs": [],
   "source": [
    "def get_message_count(manager: GmailIMAP, dir: str) -> int:\n",
    "    resp = manager.select(dir)\n",
    "    if not resp.ok:\n",
    "        msg = f\"Cannot open {dir}\"\n",
    "        raise SystemExit(msg)\n",
    "    return resp.message_count\n",
    "\n",
    "@with_pickle()\n",
    "def get_messages(manager: GmailIMAP, limits: tuple[int] = [80], batch_size: int = 20):\n",
    "    # dirs = [\"INBOX\"]\n",
    "    dirs = [\"[Gmail]/Wszystkie\"]\n",
    "    if len(limits) != len(dirs):\n",
    "        msg = \"Limits number must corresponds with number of directories.\"\n",
    "        raise ValueError(msg)\n",
    "    dirs_n_limits = zip(dirs, limits, strict=True)\n",
    "    messages = []\n",
    "    fails_coutner = 0\n",
    "    for d, l in dirs_n_limits:\n",
    "        print(f\"Reading from: {d}\")\n",
    "        messages_no = get_message_count(manager, d)\n",
    "        print(f\"Found {messages_no} in total.\")\n",
    "        messages_no = min(messages_no, l)\n",
    "        print(f\"Messages to read: {messages_no}.\")\n",
    "        manager.select(d)\n",
    "        for i in range (1, messages_no + 1, batch_size):\n",
    "            responses = manager.fetch_messages(range(i, i + batch_size))\n",
    "            for resp in responses:\n",
    "                if resp.ok and resp.message:\n",
    "                    messages.append(resp)\n",
    "                else:\n",
    "                    fails_coutner += 1\n",
    "    print(f\"Successfully read {len(messages)}.\")\n",
    "    print(f\"Fails with {fails_coutner}.\")\n",
    "    return messages"
   ]
  },
  {
   "cell_type": "code",
   "execution_count": 14,
   "id": "c273cc51",
   "metadata": {},
   "outputs": [],
   "source": [
    "import re\n",
    "email_regex = re.compile(r\" *<([^>]+)> *\")\n",
    "def _get_user(text: str) -> str:\n",
    "    return re.sub(email_regex, \"\", text)\n",
    "\n",
    "from itertools import chain\n",
    "import hashlib\n",
    "def _get_hash(text: str) -> str:\n",
    "    return hashlib.sha1(text.encode(\"utf-8\")).hexdigest()[-6:]\n",
    "# list(chain.from_iterable([[\"Ania\"], [\"Bania\", \"Hania\"]]))"
   ]
  },
  {
   "cell_type": "code",
   "execution_count": 15,
   "id": "c6eba643",
   "metadata": {},
   "outputs": [],
   "source": [
    "\n",
    "def get_senders(manager: GmailIMAP, *args, **kwargs):\n",
    "    messages = get_messages(manager, *args, **kwargs)\n",
    "    return pl.DataFrame({\n",
    "        \"Hash\" : [_get_hash(m.message.subject) for m in messages],\n",
    "        \"Date\" : [m.message.date for m in messages],\n",
    "        \"Sender\": [m.message.sender for m in messages],\n",
    "        \"Sender_count\": [len(m.message.sender) for m in messages],\n",
    "        \"Receiver\": [m.message.to for m in messages],\n",
    "        \"Receiver_count\": [len(m.message.to) for m in messages],\n",
    "        \"CC\": [m.message.cc for m in messages],\n",
    "        \"CC_count\": [len(m.message.cc) for m in messages],\n",
    "        \"BCC\": [m.message.bcc for m in messages],\n",
    "        \"BCC_count\": [len(m.message.bcc) for m in messages],\n",
    "    })\n",
    "\n",
    "def get_relations(senders: pl.DataFrame) -> pl.DataFrame:\n",
    "    return (\n",
    "        senders\n",
    "        .explode(\"Sender\")\n",
    "        .explode(\"Receiver\")\n",
    "        .explode(\"CC\")\n",
    "        .explode(\"BCC\")\n",
    "        .with_columns([\n",
    "            pl.when(pl.col(\"Receiver\").str.contains(r\"262290|Jankowski\"))\n",
    "            .then(pl.lit(\"Me\"))\n",
    "            .otherwise(pl.col(\"Receiver\"))\n",
    "            .alias(\"Receiver\"),\n",
    "            \n",
    "            pl.when(pl.col(\"Sender\").str.contains(r\"262290|Jankowski\"))\n",
    "            .then(pl.lit(\"Me\"))\n",
    "            .otherwise(pl.col(\"Sender\"))\n",
    "            .alias(\"Sender\"),\n",
    "        ])\n",
    "        .filter(\n",
    "            ~pl.col(\"Receiver\").str.contains(r\"wielu adresatów\")\n",
    "        )\n",
    "        # Remove artifacts\n",
    "        .filter(\n",
    "            ~(pl.col(\"Receiver\").str.contains(r\"Osobka\") & pl.col(\"Sender\").str.contains(r\"Osobka\"))\n",
    "        )\n",
    "        .filter(\n",
    "            ~(pl.col(\"Receiver\").str.contains(r\"test-group\") & pl.col(\"Sender\").str.contains(r\"botdatabase\"))\n",
    "        )\n",
    "    )\n",
    "\n",
    "def create_graph(relations: pl.DataFrame) -> nx.Graph:\n",
    "    unique_relations = relations.unique([pl.col(\"Sender\"), pl.col(\"Receiver\"), pl.col(\"CC\"), pl.col(\"BCC\")])\n",
    "    unique_relations = unique_relations.filter(pl.col(\"Receiver\").is_not_null())\n",
    "    print(f\"Unique rows: {len(unique_relations)}\")\n",
    "    edges = list(zip(unique_relations[\"Sender\"], unique_relations[\"Receiver\"]))\n",
    "    from pyvis.network import Network\n",
    "    G = nx.Graph()\n",
    "    G.add_edges_from(edges)\n",
    "    nx.draw(G, with_labels=False, node_color=\"lightblue\", node_size=15, font_size=12)\n",
    "    net = Network(\n",
    "        directed = False,\n",
    "        select_menu = True,\n",
    "        filter_menu = True,\n",
    "    )\n",
    "    net.show_buttons()\n",
    "    net.from_nx(G)\n",
    "    net.save_graph('communicatio_graph.html')\n",
    "    return G\n"
   ]
  },
  {
   "cell_type": "code",
   "execution_count": 16,
   "id": "54eb958b",
   "metadata": {},
   "outputs": [],
   "source": [
    "def filter_by_date(frame: pl.DataFrame, upper_threshold_date: pl.date) -> pl.DataFrame:\n",
    "    return (\n",
    "        frame\n",
    "        .filter(pl.col(\"Date\") < upper_threshold_date)\n",
    "    )"
   ]
  },
  {
   "cell_type": "code",
   "execution_count": 17,
   "id": "de58901d",
   "metadata": {},
   "outputs": [],
   "source": [
    "\n",
    "def update_graph(g: nx.Graph, relations: pl.DataFrame) -> nx.Graph:\n",
    "    unique_relations = relations.unique([pl.col(\"Sender\"), pl.col(\"Receiver\"), pl.col(\"CC\"), pl.col(\"BCC\")])\n",
    "    unique_relations = unique_relations.filter(pl.col(\"Receiver\").is_not_null())\n",
    "    edges = list(zip(unique_relations[\"Sender\"], unique_relations[\"Receiver\"]))\n",
    "    g.add_edges_from(edges)\n",
    "    nx.draw(g, with_labels=False, node_color=\"lightblue\", node_size=15, font_size=12)\n",
    "    return g\n"
   ]
  },
  {
   "cell_type": "code",
   "execution_count": null,
   "id": "e643165f",
   "metadata": {},
   "outputs": [
    {
     "ename": "NameError",
     "evalue": "name 'relations' is not defined",
     "output_type": "error",
     "traceback": [
      "\u001b[31m---------------------------------------------------------------------------\u001b[39m",
      "\u001b[31mNameError\u001b[39m                                 Traceback (most recent call last)",
      "\u001b[36mCell\u001b[39m\u001b[36m \u001b[39m\u001b[32mIn[18]\u001b[39m\u001b[32m, line 9\u001b[39m\n\u001b[32m      7\u001b[39m g= nx.Graph()\n\u001b[32m      8\u001b[39m \u001b[38;5;28;01mfor\u001b[39;00m date \u001b[38;5;129;01min\u001b[39;00m dates:\n\u001b[32m----> \u001b[39m\u001b[32m9\u001b[39m     relations_subset = filter_by_date(\u001b[43mrelations\u001b[49m, date)\n\u001b[32m     10\u001b[39m     g = update_graph(g)\n",
      "\u001b[31mNameError\u001b[39m: name 'relations' is not defined"
     ]
    }
   ],
   "source": []
  },
  {
   "cell_type": "code",
   "execution_count": null,
   "id": "c327fccb",
   "metadata": {},
   "outputs": [],
   "source": [
    "\n",
    "class Animation:\n",
    "    def __init__(self) -> None:\n",
    "        fig, ax = plt.subplots(1, 1, figsize=(12, 12))\n",
    "        self.fig = fig\n",
    "        self.ax = ax\n",
    "        self.graph = g\n",
    "        self.pos = nx.spring_layout(self.graph, seed=42)\n",
    "\n",
    "        self.ax.set_title(\"Network Growth Over Time\")\n",
    "        self.ax.axis(\"off\")\n",
    "    \n",
    "    def set_graph(self, g: nx.Graph) -> None:\n",
    "        self.graph = g\n",
    "\n",
    "    def update(self, new_edges=None):\n",
    "        if new_edges:\n",
    "            self.graph.add_edges_from(new_edges)\n",
    "            # Update positions for new nodes\n",
    "            existing_nodes = set(self.pos.keys())\n",
    "            new_nodes = set(self.graph.nodes()) - existing_nodes\n",
    "            if new_nodes:\n",
    "                new_pos = nx.spring_layout(self.graph, pos=self.pos, fixed=existing_nodes, seed=42)\n",
    "                self.pos.update(new_pos)\n",
    "\n",
    "        self.ax.clear()\n",
    "        self.ax.set_title(\"Network Growth Over Time\")\n",
    "        self.ax.axis(\"off\")\n",
    "        nx.draw_networkx(\n",
    "            self.graph,\n",
    "            pos=self.pos,\n",
    "            ax=self.ax,\n",
    "            node_color='skyblue',\n",
    "            edge_color='gray',\n",
    "            with_labels=True,\n",
    "            node_size=600,\n",
    "            font_size=10\n",
    "        )\n",
    "\n",
    "    def save_animate(self) -> None:\n",
    "        anim = FuncAnimation(\n",
    "            self.fig,\n",
    "            self.update,\n",
    "            frames=len(dates),\n",
    "            init_func=init,\n",
    "            interval=100,\n",
    "            blit=False\n",
    "        )\n",
    "        anim.save(\"network_growth.gif\", writer=\"pillow\", fps=20)\n",
    "    # plt.show()\n"
   ]
  },
  {
   "cell_type": "code",
   "execution_count": null,
   "id": "159521ba",
   "metadata": {},
   "outputs": [],
   "source": [
    "def create_growth_process_graph():\n",
    "    min_date, max_date = date(2021, 1, 8), date(2025, 10, 20)\n",
    "    anim_steps = 120\n",
    "    step_length = (max_date - min_date).days // anim_steps\n",
    "    dates = (min_date + i*timedelta(days=step_length) for i in range(anim_steps + 1))\n",
    "    g= nx.Graph()\n",
    "    for date in dates:\n",
    "        relations_subset = filter_by_date(relations, date)\n",
    "        g = update_graph(g)\n",
    "        "
   ]
  },
  {
   "cell_type": "code",
   "execution_count": 20,
   "id": "0e56881f",
   "metadata": {},
   "outputs": [
    {
     "ename": "gaierror",
     "evalue": "[Errno -3] Temporary failure in name resolution",
     "output_type": "error",
     "traceback": [
      "\u001b[31m---------------------------------------------------------------------------\u001b[39m",
      "\u001b[31mgaierror\u001b[39m                                  Traceback (most recent call last)",
      "\u001b[36mCell\u001b[39m\u001b[36m \u001b[39m\u001b[32mIn[20]\u001b[39m\u001b[32m, line 3\u001b[39m\n\u001b[32m      1\u001b[39m MAILS_TO_DOWNLOAD_COUNT = [\u001b[32m6000\u001b[39m]\n\u001b[32m      2\u001b[39m BATCH_SIZE = \u001b[32m200\u001b[39m\n\u001b[32m----> \u001b[39m\u001b[32m3\u001b[39m imap = \u001b[43mGmailIMAP\u001b[49m\u001b[43m(\u001b[49m\u001b[43mUSER_AUTH\u001b[49m\u001b[43m.\u001b[49m\u001b[43muser\u001b[49m\u001b[43m,\u001b[49m\u001b[43m \u001b[49m\u001b[43mUSER_AUTH\u001b[49m\u001b[43m.\u001b[49m\u001b[43mpassword\u001b[49m\u001b[43m)\u001b[49m\n\u001b[32m      4\u001b[39m senders = get_senders(imap, MAILS_TO_DOWNLOAD_COUNT, BATCH_SIZE, pickle_path=\u001b[33m\"\u001b[39m\u001b[33mdata/all_mails.pkl\u001b[39m\u001b[33m\"\u001b[39m)\n\u001b[32m      5\u001b[39m relations = get_relations(senders)\n",
      "\u001b[36mFile \u001b[39m\u001b[32m~/Documents/Studies/aoud/emails/gmail.py:40\u001b[39m, in \u001b[36mGmailIMAP.__init__\u001b[39m\u001b[34m(self, user, password, host)\u001b[39m\n\u001b[32m     39\u001b[39m \u001b[38;5;28;01mdef\u001b[39;00m\u001b[38;5;250m \u001b[39m\u001b[34m__init__\u001b[39m(\u001b[38;5;28mself\u001b[39m, user: \u001b[38;5;28mstr\u001b[39m, password: \u001b[38;5;28mstr\u001b[39m, host: \u001b[38;5;28mstr\u001b[39m = \u001b[33m\"\u001b[39m\u001b[33mimap.gmail.com\u001b[39m\u001b[33m\"\u001b[39m):\n\u001b[32m---> \u001b[39m\u001b[32m40\u001b[39m     \u001b[38;5;28mself\u001b[39m.conn = \u001b[43mimaplib\u001b[49m\u001b[43m.\u001b[49m\u001b[43mIMAP4_SSL\u001b[49m\u001b[43m(\u001b[49m\u001b[43mhost\u001b[49m\u001b[43m)\u001b[49m\n\u001b[32m     41\u001b[39m     \u001b[38;5;28mself\u001b[39m.conn.login(user, password)\n",
      "\u001b[36mFile \u001b[39m\u001b[32m/usr/lib/python3.12/imaplib.py:1306\u001b[39m, in \u001b[36mIMAP4_SSL.__init__\u001b[39m\u001b[34m(self, host, port, ssl_context, timeout)\u001b[39m\n\u001b[32m   1304\u001b[39m     ssl_context = ssl._create_stdlib_context()\n\u001b[32m   1305\u001b[39m \u001b[38;5;28mself\u001b[39m.ssl_context = ssl_context\n\u001b[32m-> \u001b[39m\u001b[32m1306\u001b[39m \u001b[43mIMAP4\u001b[49m\u001b[43m.\u001b[49m\u001b[34;43m__init__\u001b[39;49m\u001b[43m(\u001b[49m\u001b[38;5;28;43mself\u001b[39;49m\u001b[43m,\u001b[49m\u001b[43m \u001b[49m\u001b[43mhost\u001b[49m\u001b[43m,\u001b[49m\u001b[43m \u001b[49m\u001b[43mport\u001b[49m\u001b[43m,\u001b[49m\u001b[43m \u001b[49m\u001b[43mtimeout\u001b[49m\u001b[43m)\u001b[49m\n",
      "\u001b[36mFile \u001b[39m\u001b[32m/usr/lib/python3.12/imaplib.py:202\u001b[39m, in \u001b[36mIMAP4.__init__\u001b[39m\u001b[34m(self, host, port, timeout)\u001b[39m\n\u001b[32m    198\u001b[39m \u001b[38;5;28mself\u001b[39m._mode_ascii()\n\u001b[32m    200\u001b[39m \u001b[38;5;66;03m# Open socket to server.\u001b[39;00m\n\u001b[32m--> \u001b[39m\u001b[32m202\u001b[39m \u001b[38;5;28;43mself\u001b[39;49m\u001b[43m.\u001b[49m\u001b[43mopen\u001b[49m\u001b[43m(\u001b[49m\u001b[43mhost\u001b[49m\u001b[43m,\u001b[49m\u001b[43m \u001b[49m\u001b[43mport\u001b[49m\u001b[43m,\u001b[49m\u001b[43m \u001b[49m\u001b[43mtimeout\u001b[49m\u001b[43m)\u001b[49m\n\u001b[32m    204\u001b[39m \u001b[38;5;28;01mtry\u001b[39;00m:\n\u001b[32m    205\u001b[39m     \u001b[38;5;28mself\u001b[39m._connect()\n",
      "\u001b[36mFile \u001b[39m\u001b[32m/usr/lib/python3.12/imaplib.py:1319\u001b[39m, in \u001b[36mIMAP4_SSL.open\u001b[39m\u001b[34m(self, host, port, timeout)\u001b[39m\n\u001b[32m   1313\u001b[39m \u001b[38;5;28;01mdef\u001b[39;00m\u001b[38;5;250m \u001b[39m\u001b[34mopen\u001b[39m(\u001b[38;5;28mself\u001b[39m, host=\u001b[33m'\u001b[39m\u001b[33m'\u001b[39m, port=IMAP4_SSL_PORT, timeout=\u001b[38;5;28;01mNone\u001b[39;00m):\n\u001b[32m   1314\u001b[39m \u001b[38;5;250m    \u001b[39m\u001b[33;03m\"\"\"Setup connection to remote server on \"host:port\".\u001b[39;00m\n\u001b[32m   1315\u001b[39m \u001b[33;03m        (default: localhost:standard IMAP4 SSL port).\u001b[39;00m\n\u001b[32m   1316\u001b[39m \u001b[33;03m    This connection will be used by the routines:\u001b[39;00m\n\u001b[32m   1317\u001b[39m \u001b[33;03m        read, readline, send, shutdown.\u001b[39;00m\n\u001b[32m   1318\u001b[39m \u001b[33;03m    \"\"\"\u001b[39;00m\n\u001b[32m-> \u001b[39m\u001b[32m1319\u001b[39m     \u001b[43mIMAP4\u001b[49m\u001b[43m.\u001b[49m\u001b[43mopen\u001b[49m\u001b[43m(\u001b[49m\u001b[38;5;28;43mself\u001b[39;49m\u001b[43m,\u001b[49m\u001b[43m \u001b[49m\u001b[43mhost\u001b[49m\u001b[43m,\u001b[49m\u001b[43m \u001b[49m\u001b[43mport\u001b[49m\u001b[43m,\u001b[49m\u001b[43m \u001b[49m\u001b[43mtimeout\u001b[49m\u001b[43m)\u001b[49m\n",
      "\u001b[36mFile \u001b[39m\u001b[32m/usr/lib/python3.12/imaplib.py:312\u001b[39m, in \u001b[36mIMAP4.open\u001b[39m\u001b[34m(self, host, port, timeout)\u001b[39m\n\u001b[32m    310\u001b[39m \u001b[38;5;28mself\u001b[39m.host = host\n\u001b[32m    311\u001b[39m \u001b[38;5;28mself\u001b[39m.port = port\n\u001b[32m--> \u001b[39m\u001b[32m312\u001b[39m \u001b[38;5;28mself\u001b[39m.sock = \u001b[38;5;28;43mself\u001b[39;49m\u001b[43m.\u001b[49m\u001b[43m_create_socket\u001b[49m\u001b[43m(\u001b[49m\u001b[43mtimeout\u001b[49m\u001b[43m)\u001b[49m\n\u001b[32m    313\u001b[39m \u001b[38;5;28mself\u001b[39m.file = \u001b[38;5;28mself\u001b[39m.sock.makefile(\u001b[33m'\u001b[39m\u001b[33mrb\u001b[39m\u001b[33m'\u001b[39m)\n",
      "\u001b[36mFile \u001b[39m\u001b[32m/usr/lib/python3.12/imaplib.py:1309\u001b[39m, in \u001b[36mIMAP4_SSL._create_socket\u001b[39m\u001b[34m(self, timeout)\u001b[39m\n\u001b[32m   1308\u001b[39m \u001b[38;5;28;01mdef\u001b[39;00m\u001b[38;5;250m \u001b[39m\u001b[34m_create_socket\u001b[39m(\u001b[38;5;28mself\u001b[39m, timeout):\n\u001b[32m-> \u001b[39m\u001b[32m1309\u001b[39m     sock = \u001b[43mIMAP4\u001b[49m\u001b[43m.\u001b[49m\u001b[43m_create_socket\u001b[49m\u001b[43m(\u001b[49m\u001b[38;5;28;43mself\u001b[39;49m\u001b[43m,\u001b[49m\u001b[43m \u001b[49m\u001b[43mtimeout\u001b[49m\u001b[43m)\u001b[49m\n\u001b[32m   1310\u001b[39m     \u001b[38;5;28;01mreturn\u001b[39;00m \u001b[38;5;28mself\u001b[39m.ssl_context.wrap_socket(sock,\n\u001b[32m   1311\u001b[39m                                         server_hostname=\u001b[38;5;28mself\u001b[39m.host)\n",
      "\u001b[36mFile \u001b[39m\u001b[32m/usr/lib/python3.12/imaplib.py:302\u001b[39m, in \u001b[36mIMAP4._create_socket\u001b[39m\u001b[34m(self, timeout)\u001b[39m\n\u001b[32m    300\u001b[39m \u001b[38;5;28;01mif\u001b[39;00m timeout \u001b[38;5;129;01mis\u001b[39;00m \u001b[38;5;129;01mnot\u001b[39;00m \u001b[38;5;28;01mNone\u001b[39;00m:\n\u001b[32m    301\u001b[39m     \u001b[38;5;28;01mreturn\u001b[39;00m socket.create_connection(address, timeout)\n\u001b[32m--> \u001b[39m\u001b[32m302\u001b[39m \u001b[38;5;28;01mreturn\u001b[39;00m \u001b[43msocket\u001b[49m\u001b[43m.\u001b[49m\u001b[43mcreate_connection\u001b[49m\u001b[43m(\u001b[49m\u001b[43maddress\u001b[49m\u001b[43m)\u001b[49m\n",
      "\u001b[36mFile \u001b[39m\u001b[32m/usr/lib/python3.12/socket.py:828\u001b[39m, in \u001b[36mcreate_connection\u001b[39m\u001b[34m(address, timeout, source_address, all_errors)\u001b[39m\n\u001b[32m    826\u001b[39m host, port = address\n\u001b[32m    827\u001b[39m exceptions = []\n\u001b[32m--> \u001b[39m\u001b[32m828\u001b[39m \u001b[38;5;28;01mfor\u001b[39;00m res \u001b[38;5;129;01min\u001b[39;00m \u001b[43mgetaddrinfo\u001b[49m\u001b[43m(\u001b[49m\u001b[43mhost\u001b[49m\u001b[43m,\u001b[49m\u001b[43m \u001b[49m\u001b[43mport\u001b[49m\u001b[43m,\u001b[49m\u001b[43m \u001b[49m\u001b[32;43m0\u001b[39;49m\u001b[43m,\u001b[49m\u001b[43m \u001b[49m\u001b[43mSOCK_STREAM\u001b[49m\u001b[43m)\u001b[49m:\n\u001b[32m    829\u001b[39m     af, socktype, proto, canonname, sa = res\n\u001b[32m    830\u001b[39m     sock = \u001b[38;5;28;01mNone\u001b[39;00m\n",
      "\u001b[36mFile \u001b[39m\u001b[32m/usr/lib/python3.12/socket.py:963\u001b[39m, in \u001b[36mgetaddrinfo\u001b[39m\u001b[34m(host, port, family, type, proto, flags)\u001b[39m\n\u001b[32m    960\u001b[39m \u001b[38;5;66;03m# We override this function since we want to translate the numeric family\u001b[39;00m\n\u001b[32m    961\u001b[39m \u001b[38;5;66;03m# and socket type values to enum constants.\u001b[39;00m\n\u001b[32m    962\u001b[39m addrlist = []\n\u001b[32m--> \u001b[39m\u001b[32m963\u001b[39m \u001b[38;5;28;01mfor\u001b[39;00m res \u001b[38;5;129;01min\u001b[39;00m \u001b[43m_socket\u001b[49m\u001b[43m.\u001b[49m\u001b[43mgetaddrinfo\u001b[49m\u001b[43m(\u001b[49m\u001b[43mhost\u001b[49m\u001b[43m,\u001b[49m\u001b[43m \u001b[49m\u001b[43mport\u001b[49m\u001b[43m,\u001b[49m\u001b[43m \u001b[49m\u001b[43mfamily\u001b[49m\u001b[43m,\u001b[49m\u001b[43m \u001b[49m\u001b[38;5;28;43mtype\u001b[39;49m\u001b[43m,\u001b[49m\u001b[43m \u001b[49m\u001b[43mproto\u001b[49m\u001b[43m,\u001b[49m\u001b[43m \u001b[49m\u001b[43mflags\u001b[49m\u001b[43m)\u001b[49m:\n\u001b[32m    964\u001b[39m     af, socktype, proto, canonname, sa = res\n\u001b[32m    965\u001b[39m     addrlist.append((_intenum_converter(af, AddressFamily),\n\u001b[32m    966\u001b[39m                      _intenum_converter(socktype, SocketKind),\n\u001b[32m    967\u001b[39m                      proto, canonname, sa))\n",
      "\u001b[31mgaierror\u001b[39m: [Errno -3] Temporary failure in name resolution"
     ]
    }
   ],
   "source": [
    "MAILS_TO_DOWNLOAD_COUNT = [6000]\n",
    "BATCH_SIZE = 200\n",
    "imap = GmailIMAP(USER_AUTH.user, USER_AUTH.password)\n",
    "senders = get_senders(imap, MAILS_TO_DOWNLOAD_COUNT, BATCH_SIZE, pickle_path=\"data/all_mails.pkl\")\n",
    "relations = get_relations(senders)\n",
    "relatrions_graph = create_graph(relations)\n",
    "imap.conn.logout()"
   ]
  },
  {
   "cell_type": "code",
   "execution_count": null,
   "id": "a09dc5c4",
   "metadata": {},
   "outputs": [],
   "source": [
    "def get_g_stats(g: nx.Graph):\n",
    "    return pl.DataFrame({\n",
    "        \"my_contacts\": g.degree[\"Me\"],\n",
    "        \"clustering\": nx.average_clustering(g),\n",
    "        \"bc\": nx.betweenness_centrality(g)[\"Me\"],\n",
    "        \"radius\": nx.radius(g),\n",
    "        \"diameter\": nx.diameter(g),\n",
    "        \"top_vs\": \",\".join([_get_user(k) for k, v in sorted(g.degree(), key=lambda item: item[1], reverse=True)[:3]]),\n",
    "    })"
   ]
  },
  {
   "cell_type": "code",
   "execution_count": null,
   "id": "ba1bc0cf",
   "metadata": {},
   "outputs": [
    {
     "data": {
      "text/html": [
       "<div><style>\n",
       ".dataframe > thead > tr,\n",
       ".dataframe > tbody > tr {\n",
       "  text-align: right;\n",
       "  white-space: pre-wrap;\n",
       "}\n",
       "</style>\n",
       "<small>shape: (1, 6)</small><table border=\"1\" class=\"dataframe\"><thead><tr><th>my_contacts</th><th>clustering</th><th>bc</th><th>radius</th><th>diameter</th><th>top_vs</th></tr><tr><td>i64</td><td>f64</td><td>f64</td><td>i64</td><td>i64</td><td>str</td></tr></thead><tbody><tr><td>564</td><td>0.004366</td><td>0.822321</td><td>3</td><td>5</td><td>&quot;Me,Edyta Landkauf,Katarzyna We…</td></tr></tbody></table></div>"
      ],
      "text/plain": [
       "shape: (1, 6)\n",
       "┌─────────────┬────────────┬──────────┬────────┬──────────┬─────────────────────────────────┐\n",
       "│ my_contacts ┆ clustering ┆ bc       ┆ radius ┆ diameter ┆ top_vs                          │\n",
       "│ ---         ┆ ---        ┆ ---      ┆ ---    ┆ ---      ┆ ---                             │\n",
       "│ i64         ┆ f64        ┆ f64      ┆ i64    ┆ i64      ┆ str                             │\n",
       "╞═════════════╪════════════╪══════════╪════════╪══════════╪═════════════════════════════════╡\n",
       "│ 564         ┆ 0.004366   ┆ 0.822321 ┆ 3      ┆ 5        ┆ Me,Edyta Landkauf,Katarzyna We… │\n",
       "└─────────────┴────────────┴──────────┴────────┴──────────┴─────────────────────────────────┘"
      ]
     },
     "execution_count": 185,
     "metadata": {},
     "output_type": "execute_result"
    }
   ],
   "source": [
    "get_g_stats(relatrions_graph)"
   ]
  },
  {
   "cell_type": "code",
   "execution_count": null,
   "id": "4cb3d3c6",
   "metadata": {},
   "outputs": [
    {
     "ename": "TypeError",
     "evalue": "date_range() got an unexpected keyword argument 'low'",
     "output_type": "error",
     "traceback": [
      "\u001b[31m---------------------------------------------------------------------------\u001b[39m",
      "\u001b[31mTypeError\u001b[39m                                 Traceback (most recent call last)",
      "\u001b[36mCell\u001b[39m\u001b[36m \u001b[39m\u001b[32mIn[53]\u001b[39m\u001b[32m, line 11\u001b[39m\n\u001b[32m      5\u001b[39m \u001b[38;5;28;01mfrom\u001b[39;00m\u001b[38;5;250m \u001b[39m\u001b[34;01mmatplotlib\u001b[39;00m\u001b[34;01m.\u001b[39;00m\u001b[34;01manimation\u001b[39;00m\u001b[38;5;250m \u001b[39m\u001b[38;5;28;01mimport\u001b[39;00m FuncAnimation\n\u001b[32m      7\u001b[39m \u001b[38;5;66;03m# --- Example data (replace with your actual Polars DataFrame) ---\u001b[39;00m\n\u001b[32m      8\u001b[39m relations = pl.DataFrame({\n\u001b[32m      9\u001b[39m     \u001b[33m\"\u001b[39m\u001b[33mSource\u001b[39m\u001b[33m\"\u001b[39m: [\u001b[33m\"\u001b[39m\u001b[33mA\u001b[39m\u001b[33m\"\u001b[39m, \u001b[33m\"\u001b[39m\u001b[33mB\u001b[39m\u001b[33m\"\u001b[39m, \u001b[33m\"\u001b[39m\u001b[33mC\u001b[39m\u001b[33m\"\u001b[39m, \u001b[33m\"\u001b[39m\u001b[33mA\u001b[39m\u001b[33m\"\u001b[39m, \u001b[33m\"\u001b[39m\u001b[33mC\u001b[39m\u001b[33m\"\u001b[39m, \u001b[33m\"\u001b[39m\u001b[33mD\u001b[39m\u001b[33m\"\u001b[39m, \u001b[33m\"\u001b[39m\u001b[33mE\u001b[39m\u001b[33m\"\u001b[39m, \u001b[33m\"\u001b[39m\u001b[33mF\u001b[39m\u001b[33m\"\u001b[39m, \u001b[33m\"\u001b[39m\u001b[33mA\u001b[39m\u001b[33m\"\u001b[39m, \u001b[33m\"\u001b[39m\u001b[33mB\u001b[39m\u001b[33m\"\u001b[39m],\n\u001b[32m     10\u001b[39m     \u001b[33m\"\u001b[39m\u001b[33mTarget\u001b[39m\u001b[33m\"\u001b[39m: [\u001b[33m\"\u001b[39m\u001b[33mB\u001b[39m\u001b[33m\"\u001b[39m, \u001b[33m\"\u001b[39m\u001b[33mC\u001b[39m\u001b[33m\"\u001b[39m, \u001b[33m\"\u001b[39m\u001b[33mD\u001b[39m\u001b[33m\"\u001b[39m, \u001b[33m\"\u001b[39m\u001b[33mE\u001b[39m\u001b[33m\"\u001b[39m, \u001b[33m\"\u001b[39m\u001b[33mF\u001b[39m\u001b[33m\"\u001b[39m, \u001b[33m\"\u001b[39m\u001b[33mG\u001b[39m\u001b[33m\"\u001b[39m, \u001b[33m\"\u001b[39m\u001b[33mH\u001b[39m\u001b[33m\"\u001b[39m, \u001b[33m\"\u001b[39m\u001b[33mI\u001b[39m\u001b[33m\"\u001b[39m, \u001b[33m\"\u001b[39m\u001b[33mJ\u001b[39m\u001b[33m\"\u001b[39m, \u001b[33m\"\u001b[39m\u001b[33mK\u001b[39m\u001b[33m\"\u001b[39m],\n\u001b[32m---> \u001b[39m\u001b[32m11\u001b[39m     \u001b[33m\"\u001b[39m\u001b[33mDate\u001b[39m\u001b[33m\"\u001b[39m: \u001b[43mpl\u001b[49m\u001b[43m.\u001b[49m\u001b[43mdate_range\u001b[49m\u001b[43m(\u001b[49m\u001b[43mlow\u001b[49m\u001b[43m=\u001b[49m\u001b[43mdate\u001b[49m\u001b[43m(\u001b[49m\u001b[32;43m2021\u001b[39;49m\u001b[43m,\u001b[49m\u001b[43m \u001b[49m\u001b[32;43m1\u001b[39;49m\u001b[43m,\u001b[49m\u001b[43m \u001b[49m\u001b[32;43m8\u001b[39;49m\u001b[43m)\u001b[49m\u001b[43m,\u001b[49m\u001b[43m \u001b[49m\u001b[43mhigh\u001b[49m\u001b[43m=\u001b[49m\u001b[43mdate\u001b[49m\u001b[43m(\u001b[49m\u001b[32;43m2025\u001b[39;49m\u001b[43m,\u001b[49m\u001b[43m \u001b[49m\u001b[32;43m10\u001b[39;49m\u001b[43m,\u001b[49m\u001b[43m \u001b[49m\u001b[32;43m20\u001b[39;49m\u001b[43m)\u001b[49m\u001b[43m,\u001b[49m\u001b[43m \u001b[49m\u001b[43minterval\u001b[49m\u001b[43m=\u001b[49m\u001b[33;43m\"\u001b[39;49m\u001b[33;43m450d\u001b[39;49m\u001b[33;43m\"\u001b[39;49m\u001b[43m)\u001b[49m.to_list()[:\u001b[32m10\u001b[39m]\n\u001b[32m     12\u001b[39m })\n\u001b[32m     14\u001b[39m \u001b[38;5;66;03m# --- Parameters ---\u001b[39;00m\n\u001b[32m     15\u001b[39m min_date = relations[\u001b[33m\"\u001b[39m\u001b[33mDate\u001b[39m\u001b[33m\"\u001b[39m].min()\n",
      "\u001b[31mTypeError\u001b[39m: date_range() got an unexpected keyword argument 'low'"
     ]
    }
   ],
   "source": [
    "import polars as pl\n",
    "import networkx as nx\n",
    "import matplotlib.pyplot as plt\n",
    "from datetime import date, timedelta\n",
    "\n",
    "# --- Example data (replace with your actual Polars DataFrame) ---\n",
    "relations = pl.DataFrame({\n",
    "    \"Source\": [\"A\", \"B\", \"C\", \"A\", \"C\", \"D\", \"E\", \"F\", \"A\", \"B\"],\n",
    "    \"Target\": [\"B\", \"C\", \"D\", \"E\", \"F\", \"G\", \"H\", \"I\", \"J\", \"K\"],\n",
    "    \"Date\": pl.date_range(low=date(2021, 1, 8), high=date(2025, 10, 20), interval=\"450d\").to_list()[:10]\n",
    "})\n",
    "\n",
    "# --- Parameters ---\n",
    "min_date = relations[\"Date\"].min()\n",
    "max_date = relations[\"Date\"].max()\n",
    "anim_steps = 120\n",
    "step_length = (max_date - min_date).days // anim_steps\n",
    "\n",
    "# --- Helper functions ---\n",
    "def filter_by_date(df: pl.DataFrame, current_date: date) -> pl.DataFrame:\n",
    "    \"\"\"Return subset of relations that occurred before or on current_date.\"\"\"\n",
    "    return df.filter(pl.col(\"Date\") <= pl.lit(current_date))\n",
    "\n",
    "def update_graph(g: nx.Graph, df_subset: pl.DataFrame) -> nx.Graph:\n",
    "    \"\"\"Add edges (and implicitly nodes) from subset.\"\"\"\n",
    "    edges = list(zip(df_subset[\"Source\"], df_subset[\"Target\"]))\n",
    "    g.clear()\n",
    "    g.add_edges_from(edges)\n",
    "    return g\n",
    "\n",
    "# --- Animation setup ---\n",
    "fig, ax = plt.subplots(figsize=(8, 6))\n",
    "g = nx.Graph()\n",
    "pos = {}\n",
    "\n",
    "dates = [min_date + timedelta(days=i * step_length) for i in range(anim_steps + 1)]\n",
    "\n",
    "def init():\n",
    "    ax.set_title(\"Network Growth Over Time\")\n",
    "    ax.axis(\"off\")\n",
    "\n",
    "def update(frame):\n",
    "    global g, pos\n",
    "    current_date = dates[frame]\n",
    "    subset = filter_by_date(relations, current_date)\n",
    "\n",
    "    g = update_graph(g, subset)\n",
    "\n",
    "    # Maintain previous positions, assign new ones if needed\n",
    "    existing_nodes = set(pos.keys())\n",
    "    new_nodes = set(g.nodes()) - existing_nodes\n",
    "    if new_nodes:\n",
    "        new_pos = nx.spring_layout(g, pos=pos, fixed=existing_nodes, seed=42)\n",
    "        pos.update(new_pos)\n",
    "\n",
    "    ax.clear()\n",
    "    ax.set_title(f\"Network on {current_date.strftime('%Y-%m-%d')}\")\n",
    "    ax.axis(\"off\")\n",
    "\n",
    "    nx.draw_networkx(\n",
    "        g, pos, ax=ax,\n",
    "        node_color='skyblue', edge_color='gray',\n",
    "        with_labels=True, node_size=600, font_size=9\n",
    "    )\n",
    "\n",
    "    return ax,\n"
   ]
  }
 ],
 "metadata": {
  "kernelspec": {
   "display_name": "studies",
   "language": "python",
   "name": "studies"
  },
  "language_info": {
   "codemirror_mode": {
    "name": "ipython",
    "version": 3
   },
   "file_extension": ".py",
   "mimetype": "text/x-python",
   "name": "python",
   "nbconvert_exporter": "python",
   "pygments_lexer": "ipython3",
   "version": "3.12.3"
  }
 },
 "nbformat": 4,
 "nbformat_minor": 5
}
