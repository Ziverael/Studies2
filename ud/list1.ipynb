{
 "cells": [
  {
   "cell_type": "markdown",
   "id": "4c2c5268",
   "metadata": {},
   "source": [
    "# List 1"
   ]
  },
  {
   "cell_type": "markdown",
   "id": "67927992",
   "metadata": {},
   "source": [
    "## Imports"
   ]
  },
  {
   "cell_type": "code",
   "execution_count": 1,
   "id": "7b34a6ed",
   "metadata": {},
   "outputs": [],
   "source": [
    "import polars as pl\n",
    "from pathlib import Path\n",
    "from collections import defaultdict\n",
    "from pydantic import BaseModel, computed_field, ConfigDict\n",
    "from itertools import chain\n",
    "import logging\n",
    "from pprint import pprint"
   ]
  },
  {
   "cell_type": "code",
   "execution_count": 2,
   "id": "325c523d",
   "metadata": {},
   "outputs": [],
   "source": [
    "logger = logging.getLogger(__name__)\n",
    "logging.basicConfig(level=logging.INFO)"
   ]
  },
  {
   "cell_type": "code",
   "execution_count": 3,
   "id": "5c6cfd62",
   "metadata": {},
   "outputs": [],
   "source": [
    "class Paths(BaseModel):\n",
    "    model_config = ConfigDict(frozen=True)\n",
    "    project: Path = Path(\".\")\n",
    "\n",
    "    @computed_field\n",
    "    @property\n",
    "    def data(self) -> Path:\n",
    "        return self.project / \"data\"\n",
    "\n",
    "    \n",
    "PATHS = Paths()"
   ]
  },
  {
   "cell_type": "markdown",
   "id": "949cadf5",
   "metadata": {},
   "source": [
    "## Load"
   ]
  },
  {
   "cell_type": "code",
   "execution_count": 4,
   "id": "87b2ba3d",
   "metadata": {},
   "outputs": [],
   "source": [
    "def load_data() -> dict[str, pl.LazyFrame]:\n",
    "    \"\"\"Using lazy frame during load allow for comfortable handle huge csv.\n",
    "    In that case those big files are not materialized on load (what crashes \n",
    "    my computer).\n",
    "    \"\"\"\n",
    "    return {\n",
    "        doc: pl.scan_csv(PATHS.data / doc, separator=sep)\n",
    "        for doc, sep in [\n",
    "            (\"Branches_ENG.csv\", \";\"),\n",
    "            (\"Categories_ENG.csv\", \";\"),\n",
    "            (\"Customers_ENG.csv\", \";\"),\n",
    "            (\"Order_Details.csv\", \",\"),\n",
    "            (\"Orders.csv\", \",\"),\n",
    "        ] \n",
    "    }"
   ]
  },
  {
   "cell_type": "code",
   "execution_count": 5,
   "id": "000ce0bb",
   "metadata": {},
   "outputs": [],
   "source": [
    "def get_features(frames: dict[str, pl.LazyFrame]) -> set[str]:\n",
    "    return set(\n",
    "        chain.from_iterable(frame.collect_schema().names()\n",
    "        for frame in frames.values())\n",
    "    )"
   ]
  },
  {
   "cell_type": "code",
   "execution_count": 6,
   "id": "c7e758da",
   "metadata": {},
   "outputs": [],
   "source": [
    "frames = load_data()"
   ]
  },
  {
   "cell_type": "code",
   "execution_count": 7,
   "id": "8489d6f4",
   "metadata": {},
   "outputs": [
    {
     "name": "stdout",
     "output_type": "stream",
     "text": [
      "{'ADDRESSTEXT',\n",
      " 'AMOUNT',\n",
      " 'BRANCH_ID',\n",
      " 'BRANCH_TOWN',\n",
      " 'BRAND',\n",
      " 'CATEGORY1',\n",
      " 'CATEGORY1_ID',\n",
      " 'CATEGORY2',\n",
      " 'CATEGORY2_ID',\n",
      " 'CATEGORY3',\n",
      " 'CATEGORY3_ID',\n",
      " 'CATEGORY4',\n",
      " 'CATEGORY4_ID',\n",
      " 'CITY',\n",
      " 'DATE_',\n",
      " 'DISTRICT',\n",
      " 'ITEMCODE',\n",
      " 'ITEMID',\n",
      " 'ITEMNAME',\n",
      " 'LAT',\n",
      " 'LON',\n",
      " 'NAMESURNAME',\n",
      " 'ORDERDETAILID',\n",
      " 'ORDERID',\n",
      " 'REGION',\n",
      " 'STATUS_',\n",
      " 'TOTALBASKET',\n",
      " 'TOTALPRICE',\n",
      " 'TOWN',\n",
      " 'UNITPRICE',\n",
      " 'USERBIRTHDATE',\n",
      " 'USERGENDER',\n",
      " 'USERID',\n",
      " 'USERNAME_'}\n"
     ]
    }
   ],
   "source": [
    "pprint(get_features(frames))"
   ]
  },
  {
   "cell_type": "code",
   "execution_count": 9,
   "id": "dd7807e3",
   "metadata": {},
   "outputs": [
    {
     "data": {
      "text/html": [
       "<i>naive plan: (run <b>LazyFrame.explain(optimized=True)</b> to see the optimized plan)</i>\n",
       "    <p></p>\n",
       "    <div>Csv SCAN [data/Orders.csv]<p></p>PROJECT */6 COLUMNS</div>"
      ],
      "text/plain": [
       "<LazyFrame at 0x7C7B625701A0>"
      ]
     },
     "execution_count": 9,
     "metadata": {},
     "output_type": "execute_result"
    }
   ],
   "source": [
    "frames[\"Orders.csv\"]"
   ]
  },
  {
   "cell_type": "code",
   "execution_count": 46,
   "id": "4fdc63e8",
   "metadata": {},
   "outputs": [],
   "source": [
    "item_details = (\n",
    "        frames[\"Order_Details.csv\"].join(\n",
    "        frames[\"Categories_ENG.csv\"],\n",
    "        how=\"left\",\n",
    "        on=\"ITEMID\",\n",
    "    )\n",
    "    .drop(\"ITEMID\", \"CATEGORY1_ID\", \"CATEGORY2_ID\", \"CATEGORY3_ID\", \"CATEGORY4_ID\", \"ITEMCODE_right\")\n",
    ")"
   ]
  },
  {
   "cell_type": "code",
   "execution_count": 47,
   "id": "a9387c3f",
   "metadata": {},
   "outputs": [],
   "source": [
    "item_desc = (\n",
    "    item_details\n",
    "    .select([\n",
    "        \"ITEMCODE\",\n",
    "        \"CATEGORY1\",\n",
    "        \"CATEGORY2\",\n",
    "        \"CATEGORY3\",\n",
    "        \"CATEGORY4\",\n",
    "        \"BRAND\",\n",
    "        \"UNITPRICE\",\n",
    "        \"ITEMNAME\"\n",
    "    ])\n",
    "    .unique(\"ITEMCODE\")\n",
    ")"
   ]
  },
  {
   "cell_type": "code",
   "execution_count": 48,
   "id": "7d7d7924",
   "metadata": {},
   "outputs": [],
   "source": [
    "order_details = (\n",
    "    item_details\n",
    "    .select([\n",
    "        \"ORDERID\",\n",
    "        \"AMOUNT\",\n",
    "    ])\n",
    ")"
   ]
  },
  {
   "cell_type": "code",
   "execution_count": null,
   "id": "56c17554",
   "metadata": {},
   "outputs": [],
   "source": [
    "total = (\n",
    "        frames[\"Orders.csv\"].join(\n",
    "        frames[\"Customers_ENG.csv\"],\n",
    "        how=\"left\",\n",
    "        on=\"USERID\",\n",
    "    )\n",
    "    .drop(\"USERID\")\n",
    "    .join(\n",
    "        frames[\"Branches_ENG.csv\"],\n",
    "        how=\"left\",\n",
    "        on=\"BRANCH_ID\",\n",
    "    )\n",
    "    .drop(\"BRANCH_ID\")\n",
    "    .join(\n",
    "        order_details,\n",
    "    #     (\n",
    "    #         frames[\"Order_Details.csv\"]\n",
    "    #         .drop(\"ITEMCODE\", \"ORDERDETAILID\")\n",
    "            \n",
    "    #     ),\n",
    "        how=\"right\",\n",
    "        on=\"ORDERID\",\n",
    "    )\n",
    "    # .head(10)\n",
    "    .collect(engine=\"streaming\")\n",
    ")"
   ]
  },
  {
   "cell_type": "code",
   "execution_count": null,
   "id": "6f9d7adb",
   "metadata": {},
   "outputs": [],
   "source": []
  },
  {
   "cell_type": "code",
   "execution_count": null,
   "id": "1abf8871",
   "metadata": {},
   "outputs": [],
   "source": []
  },
  {
   "cell_type": "code",
   "execution_count": null,
   "id": "376b2609",
   "metadata": {},
   "outputs": [],
   "source": []
  },
  {
   "cell_type": "code",
   "execution_count": null,
   "id": "4c7fe5f8",
   "metadata": {},
   "outputs": [
    {
     "data": {
      "text/html": [
       "<div><style>\n",
       ".dataframe > thead > tr,\n",
       ".dataframe > tbody > tr {\n",
       "  text-align: right;\n",
       "  white-space: pre-wrap;\n",
       "}\n",
       "</style>\n",
       "<small>shape: (1, 1)</small><table border=\"1\" class=\"dataframe\"><thead><tr><th>len</th></tr><tr><td>u32</td></tr></thead><tbody><tr><td>51185032</td></tr></tbody></table></div>"
      ],
      "text/plain": [
       "shape: (1, 1)\n",
       "┌──────────┐\n",
       "│ len      │\n",
       "│ ---      │\n",
       "│ u32      │\n",
       "╞══════════╡\n",
       "│ 51185032 │\n",
       "└──────────┘"
      ]
     },
     "execution_count": 19,
     "metadata": {},
     "output_type": "execute_result"
    }
   ],
   "source": [
    "frames[\"Order_Details.csv\"].select(pl.n_unique(\"ITEMID\")).collect(engine=\"streaming\")\n"
   ]
  },
  {
   "cell_type": "code",
   "execution_count": 13,
   "id": "680b56e4",
   "metadata": {},
   "outputs": [
    {
     "name": "stdout",
     "output_type": "stream",
     "text": [
      "CPU times: user 209 ms, sys: 150 ms, total: 360 ms\n",
      "Wall time: 835 ms\n"
     ]
    },
    {
     "data": {
      "text/html": [
       "<div><style>\n",
       ".dataframe > thead > tr,\n",
       ".dataframe > tbody > tr {\n",
       "  text-align: right;\n",
       "  white-space: pre-wrap;\n",
       "}\n",
       "</style>\n",
       "<small>shape: (1, 1)</small><table border=\"1\" class=\"dataframe\"><thead><tr><th>len</th></tr><tr><td>u32</td></tr></thead><tbody><tr><td>10235193</td></tr></tbody></table></div>"
      ],
      "text/plain": [
       "shape: (1, 1)\n",
       "┌──────────┐\n",
       "│ len      │\n",
       "│ ---      │\n",
       "│ u32      │\n",
       "╞══════════╡\n",
       "│ 10235193 │\n",
       "└──────────┘"
      ]
     },
     "execution_count": 13,
     "metadata": {},
     "output_type": "execute_result"
    }
   ],
   "source": [
    "%time frames[\"Orders.csv\"].select(pl.len()).collect(engine=\"streaming\")\n",
    "# %time frames[\"Order_Details.csv\"].select(pl.len()).collect(engine=\"streaming\")"
   ]
  },
  {
   "cell_type": "code",
   "execution_count": 14,
   "id": "bd8dc95f",
   "metadata": {},
   "outputs": [
    {
     "ename": "SyntaxError",
     "evalue": "invalid syntax. Maybe you meant '==' or ':=' instead of '='? (3403469151.py, line 1)",
     "output_type": "error",
     "traceback": [
      "  \u001b[36mCell\u001b[39m\u001b[36m \u001b[39m\u001b[32mIn[14]\u001b[39m\u001b[32m, line 1\u001b[39m\n\u001b[31m    \u001b[39m\u001b[31mframes[\"Order_Details.csv\"].join(frames[\"Orders.csv\", how=\"left\", on=\"\"])select(pl.len()).collect(engine=\"streaming\")\u001b[39m\n                                                          ^\n\u001b[31mSyntaxError\u001b[39m\u001b[31m:\u001b[39m invalid syntax. Maybe you meant '==' or ':=' instead of '='?\n"
     ]
    }
   ],
   "source": [
    "frames[\"Order_Details.csv\"].join(frames[\"Orders.csv\", how=\"left\", on=\"\"])select(pl.len()).collect(engine=\"streaming\")"
   ]
  }
 ],
 "metadata": {
  "kernelspec": {
   "display_name": "studies",
   "language": "python",
   "name": "studies"
  },
  "language_info": {
   "codemirror_mode": {
    "name": "ipython",
    "version": 3
   },
   "file_extension": ".py",
   "mimetype": "text/x-python",
   "name": "python",
   "nbconvert_exporter": "python",
   "pygments_lexer": "ipython3",
   "version": "3.12.3"
  }
 },
 "nbformat": 4,
 "nbformat_minor": 5
}
