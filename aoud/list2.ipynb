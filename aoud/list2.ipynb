{
 "cells": [
  {
   "cell_type": "markdown",
   "id": "78cf71b3",
   "metadata": {},
   "source": [
    "# List 2"
   ]
  },
  {
   "cell_type": "code",
   "execution_count": 38,
   "id": "49686862",
   "metadata": {},
   "outputs": [],
   "source": [
    "import imaplib\n",
    "from pydantic_settings import BaseSettings,SettingsConfigDict\n",
    "from emails.gmail import  GmailIMAP\n",
    "from emails.model import  Response\n",
    "from typing import Any\n",
    "from functools import lru_cache\n",
    "import polars as pl\n",
    "import matplotlib.pyplot as plt"
   ]
  },
  {
   "cell_type": "code",
   "execution_count": 2,
   "id": "315c65f8",
   "metadata": {},
   "outputs": [],
   "source": [
    "class UserAuth(BaseSettings):\n",
    "    model_config = SettingsConfigDict(frozen=True, env_file=\".env\", env_prefix=\"gmail_\")\n",
    "    \n",
    "    user: str\n",
    "    password: str\n",
    "    imap_url: str = \"imap.gmail.com\"\n",
    "    \n",
    "    @property\n",
    "    def connection(self):\n",
    "        return imaplib.IMAP4_SSL(self.imap_url) \n",
    "    "
   ]
  },
  {
   "cell_type": "code",
   "execution_count": 3,
   "id": "387709bc",
   "metadata": {},
   "outputs": [],
   "source": [
    "USER_AUTH = UserAuth()"
   ]
  },
  {
   "cell_type": "code",
   "execution_count": 12,
   "id": "6850edb5",
   "metadata": {},
   "outputs": [],
   "source": [
    "def get_message_count(manager: GmailIMAP) -> int:\n",
    "    resp = manager.select(\"INBOX\")\n",
    "    if not resp.ok:\n",
    "        raise SystemExit(\"Cannot open INBOX\")\n",
    "    return resp.message_count"
   ]
  },
  {
   "cell_type": "code",
   "execution_count": 18,
   "id": "5f37633f",
   "metadata": {},
   "outputs": [],
   "source": [
    "@lru_cache(maxsize=1)\n",
    "def get_messages(manager: GmailIMAP, count: int = 100):\n",
    "    messages = []\n",
    "    messages_no = min(count, get_message_count(manager))\n",
    "    print(f\"Messages to read: {messages_no}.\")\n",
    "    for i in range (1, messages_no + 1):\n",
    "        msg_resp = manager.fetch_message(i)\n",
    "        if msg_resp.ok and msg_resp.message:\n",
    "            messages.append(msg_resp)\n",
    "    print(f\"Successfully read {len(messages)}.\")\n",
    "    return messages"
   ]
  },
  {
   "cell_type": "code",
   "execution_count": 28,
   "id": "08631d14",
   "metadata": {},
   "outputs": [],
   "source": [
    "def analyze_freq_pattern(manager: GmailIMAP, message_max_limit: int = 100):\n",
    "    messages = get_messages(manager, message_max_limit)\n",
    "    dates = pl.DataFrame({\"Time\": [m.message.date for m in messages]})\n",
    "    return dates\n"
   ]
  },
  {
   "cell_type": "code",
   "execution_count": 30,
   "id": "4efd9b55",
   "metadata": {},
   "outputs": [
    {
     "name": "stdout",
     "output_type": "stream",
     "text": [
      "Messages to read: 10.\n",
      "Successfully read 10.\n"
     ]
    },
    {
     "data": {
      "text/plain": [
       "('BYE', [b'LOGOUT Requested'])"
      ]
     },
     "execution_count": 30,
     "metadata": {},
     "output_type": "execute_result"
    }
   ],
   "source": [
    "imap = GmailIMAP(USER_AUTH.user, USER_AUTH.password)\n",
    "dates = analyze_freq_pattern(imap, 10)\n",
    "imap.conn.logout()"
   ]
  },
  {
   "cell_type": "code",
   "execution_count": 34,
   "id": "1a1fece6",
   "metadata": {},
   "outputs": [
    {
     "data": {
      "text/html": [
       "<div><style>\n",
       ".dataframe > thead > tr,\n",
       ".dataframe > tbody > tr {\n",
       "  text-align: right;\n",
       "  white-space: pre-wrap;\n",
       "}\n",
       "</style>\n",
       "<small>shape: (4, 2)</small><table border=\"1\" class=\"dataframe\"><thead><tr><th>Time</th><th>count</th></tr><tr><td>datetime[μs, Europe/Warsaw]</td><td>u32</td></tr></thead><tbody><tr><td>2021-01-08 00:00:00 CET</td><td>2</td></tr><tr><td>2021-01-12 00:00:00 CET</td><td>5</td></tr><tr><td>2021-01-13 00:00:00 CET</td><td>2</td></tr><tr><td>2021-01-14 00:00:00 CET</td><td>1</td></tr></tbody></table></div>"
      ],
      "text/plain": [
       "shape: (4, 2)\n",
       "┌─────────────────────────────┬───────┐\n",
       "│ Time                        ┆ count │\n",
       "│ ---                         ┆ ---   │\n",
       "│ datetime[μs, Europe/Warsaw] ┆ u32   │\n",
       "╞═════════════════════════════╪═══════╡\n",
       "│ 2021-01-08 00:00:00 CET     ┆ 2     │\n",
       "│ 2021-01-12 00:00:00 CET     ┆ 5     │\n",
       "│ 2021-01-13 00:00:00 CET     ┆ 2     │\n",
       "│ 2021-01-14 00:00:00 CET     ┆ 1     │\n",
       "└─────────────────────────────┴───────┘"
      ]
     },
     "execution_count": 34,
     "metadata": {},
     "output_type": "execute_result"
    }
   ],
   "source": [
    "# daily_hist = (\n",
    "#     dates\n",
    "#     .with_columns(pl.col(\"Time\").dt.truncate(\"1d\").alias(\"day\"))\n",
    "#     .group_by(\"day\")\n",
    "#     .agg(pl.len().alias(\"count\"))\n",
    "#     .sort(\"day\")\n",
    "# )\n",
    "\n",
    "daily_hist = (\n",
    "    dates.group_by_dynamic(\n",
    "        index_column=\"Time\",\n",
    "        every=\"1d\",\n",
    "        closed=\"left\"\n",
    "    )\n",
    "    .agg(pl.len().alias(\"count\"))\n",
    ")\n",
    "\n",
    "daily_hist"
   ]
  },
  {
   "cell_type": "code",
   "execution_count": null,
   "id": "30a610d4",
   "metadata": {},
   "outputs": [
    {
     "data": {
      "image/png": "[encoded data removed]",
      "text/plain": [
       "<Figure size 640x480 with 1 Axes>"
      ]
     },
     "metadata": {},
     "output_type": "display_data"
    }
   ],
   "source": [
    "\n",
    "plt.bar(daily_hist[\"Time\"], daily_hist[\"count\"])\n",
    "plt.xlabel(\"Date\")\n",
    "plt.ylabel(\"Count\")\n",
    "plt.title(\"Daily histogram\")\n",
    "plt.xticks(rotation=45)\n",
    "plt.show()"
   ]
  },
  {
   "cell_type": "code",
   "execution_count": null,
   "id": "3e91cfdb",
   "metadata": {},
   "outputs": [
    {
     "data": {
      "text/plain": [
       "[datetime.datetime(2021, 1, 8, 3, 59, 33, tzinfo=zoneinfo.ZoneInfo(key='Europe/Warsaw')),\n",
       " datetime.datetime(2021, 1, 8, 3, 59, 33, tzinfo=zoneinfo.ZoneInfo(key='Europe/Warsaw')),\n",
       " datetime.datetime(2021, 1, 12, 11, 32, 37, tzinfo=zoneinfo.ZoneInfo(key='Europe/Warsaw')),\n",
       " datetime.datetime(2021, 1, 12, 12, 9, 57, tzinfo=zoneinfo.ZoneInfo(key='Europe/Warsaw')),\n",
       " datetime.datetime(2021, 1, 12, 16, 22, 13, tzinfo=zoneinfo.ZoneInfo(key='Europe/Warsaw')),\n",
       " datetime.datetime(2021, 1, 12, 18, 30, 19, tzinfo=zoneinfo.ZoneInfo(key='Europe/Warsaw')),\n",
       " datetime.datetime(2021, 1, 12, 22, 5, 56, tzinfo=zoneinfo.ZoneInfo(key='Europe/Warsaw')),\n",
       " datetime.datetime(2021, 1, 13, 13, 37, 23, tzinfo=zoneinfo.ZoneInfo(key='Europe/Warsaw')),\n",
       " datetime.datetime(2021, 1, 13, 15, 19, 44, tzinfo=zoneinfo.ZoneInfo(key='Europe/Warsaw'))]"
      ]
     },
     "execution_count": 7,
     "metadata": {},
     "output_type": "execute_result"
    }
   ],
   "source": [
    "df_sorted = dates.sort(\"Time\")\n",
    "\n",
    "df_cumsum = df_sorted.with_columns(\n",
    "    pl.col(\"volume\").cumsum().alias(\"cum_volume\")\n",
    ")\n",
    "\n",
    "print(df_cumsum)"
   ]
  },
  {
   "cell_type": "code",
   "execution_count": null,
   "id": "699f68e2",
   "metadata": {},
   "outputs": [],
   "source": []
  },
  {
   "cell_type": "code",
   "execution_count": null,
   "id": "7b62a363",
   "metadata": {},
   "outputs": [
    {
     "ename": "abort",
     "evalue": "socket error: [Errno 9] Bad file descriptor",
     "output_type": "error",
     "traceback": [
      "\u001b[31m---------------------------------------------------------------------------\u001b[39m",
      "\u001b[31mOSError\u001b[39m                                   Traceback (most recent call last)",
      "\u001b[36mFile \u001b[39m\u001b[32m/usr/lib/python3.12/imaplib.py:1006\u001b[39m, in \u001b[36mIMAP4._command\u001b[39m\u001b[34m(self, name, *args)\u001b[39m\n\u001b[32m   1005\u001b[39m \u001b[38;5;28;01mtry\u001b[39;00m:\n\u001b[32m-> \u001b[39m\u001b[32m1006\u001b[39m     \u001b[38;5;28;43mself\u001b[39;49m\u001b[43m.\u001b[49m\u001b[43msend\u001b[49m\u001b[43m(\u001b[49m\u001b[43mdata\u001b[49m\u001b[43m \u001b[49m\u001b[43m+\u001b[49m\u001b[43m \u001b[49m\u001b[43mCRLF\u001b[49m\u001b[43m)\u001b[49m\n\u001b[32m   1007\u001b[39m \u001b[38;5;28;01mexcept\u001b[39;00m \u001b[38;5;167;01mOSError\u001b[39;00m \u001b[38;5;28;01mas\u001b[39;00m val:\n",
      "\u001b[36mFile \u001b[39m\u001b[32m/usr/lib/python3.12/imaplib.py:332\u001b[39m, in \u001b[36mIMAP4.send\u001b[39m\u001b[34m(self, data)\u001b[39m\n\u001b[32m    331\u001b[39m sys.audit(\u001b[33m\"\u001b[39m\u001b[33mimaplib.send\u001b[39m\u001b[33m\"\u001b[39m, \u001b[38;5;28mself\u001b[39m, data)\n\u001b[32m--> \u001b[39m\u001b[32m332\u001b[39m \u001b[38;5;28;43mself\u001b[39;49m\u001b[43m.\u001b[49m\u001b[43msock\u001b[49m\u001b[43m.\u001b[49m\u001b[43msendall\u001b[49m\u001b[43m(\u001b[49m\u001b[43mdata\u001b[49m\u001b[43m)\u001b[49m\n",
      "\u001b[36mFile \u001b[39m\u001b[32m/usr/lib/python3.12/ssl.py:1214\u001b[39m, in \u001b[36mSSLSocket.sendall\u001b[39m\u001b[34m(self, data, flags)\u001b[39m\n\u001b[32m   1213\u001b[39m \u001b[38;5;28;01melse\u001b[39;00m:\n\u001b[32m-> \u001b[39m\u001b[32m1214\u001b[39m     \u001b[38;5;28;01mreturn\u001b[39;00m \u001b[38;5;28;43msuper\u001b[39;49m\u001b[43m(\u001b[49m\u001b[43m)\u001b[49m\u001b[43m.\u001b[49m\u001b[43msendall\u001b[49m\u001b[43m(\u001b[49m\u001b[43mdata\u001b[49m\u001b[43m,\u001b[49m\u001b[43m \u001b[49m\u001b[43mflags\u001b[49m\u001b[43m)\u001b[49m\n",
      "\u001b[31mOSError\u001b[39m: [Errno 9] Bad file descriptor",
      "\nDuring handling of the above exception, another exception occurred:\n",
      "\u001b[31mabort\u001b[39m                                     Traceback (most recent call last)",
      "\u001b[36mCell\u001b[39m\u001b[36m \u001b[39m\u001b[32mIn[8]\u001b[39m\u001b[32m, line 1\u001b[39m\n\u001b[32m----> \u001b[39m\u001b[32m1\u001b[39m \u001b[43mimap\u001b[49m\u001b[43m.\u001b[49m\u001b[43mconn\u001b[49m\u001b[43m.\u001b[49m\u001b[43mlogout\u001b[49m\u001b[43m(\u001b[49m\u001b[43m)\u001b[49m\n",
      "\u001b[36mFile \u001b[39m\u001b[32m/usr/lib/python3.12/imaplib.py:642\u001b[39m, in \u001b[36mIMAP4.logout\u001b[39m\u001b[34m(self)\u001b[39m\n\u001b[32m    635\u001b[39m \u001b[38;5;250m\u001b[39m\u001b[33;03m\"\"\"Shutdown connection to server.\u001b[39;00m\n\u001b[32m    636\u001b[39m \n\u001b[32m    637\u001b[39m \u001b[33;03m(typ, [data]) = <instance>.logout()\u001b[39;00m\n\u001b[32m    638\u001b[39m \n\u001b[32m    639\u001b[39m \u001b[33;03mReturns server 'BYE' response.\u001b[39;00m\n\u001b[32m    640\u001b[39m \u001b[33;03m\"\"\"\u001b[39;00m\n\u001b[32m    641\u001b[39m \u001b[38;5;28mself\u001b[39m.state = \u001b[33m'\u001b[39m\u001b[33mLOGOUT\u001b[39m\u001b[33m'\u001b[39m\n\u001b[32m--> \u001b[39m\u001b[32m642\u001b[39m typ, dat = \u001b[38;5;28;43mself\u001b[39;49m\u001b[43m.\u001b[49m\u001b[43m_simple_command\u001b[49m\u001b[43m(\u001b[49m\u001b[33;43m'\u001b[39;49m\u001b[33;43mLOGOUT\u001b[39;49m\u001b[33;43m'\u001b[39;49m\u001b[43m)\u001b[49m\n\u001b[32m    643\u001b[39m \u001b[38;5;28mself\u001b[39m.shutdown()\n\u001b[32m    644\u001b[39m \u001b[38;5;28;01mreturn\u001b[39;00m typ, dat\n",
      "\u001b[36mFile \u001b[39m\u001b[32m/usr/lib/python3.12/imaplib.py:1230\u001b[39m, in \u001b[36mIMAP4._simple_command\u001b[39m\u001b[34m(self, name, *args)\u001b[39m\n\u001b[32m   1228\u001b[39m \u001b[38;5;28;01mdef\u001b[39;00m\u001b[38;5;250m \u001b[39m\u001b[34m_simple_command\u001b[39m(\u001b[38;5;28mself\u001b[39m, name, *args):\n\u001b[32m-> \u001b[39m\u001b[32m1230\u001b[39m     \u001b[38;5;28;01mreturn\u001b[39;00m \u001b[38;5;28mself\u001b[39m._command_complete(name, \u001b[38;5;28;43mself\u001b[39;49m\u001b[43m.\u001b[49m\u001b[43m_command\u001b[49m\u001b[43m(\u001b[49m\u001b[43mname\u001b[49m\u001b[43m,\u001b[49m\u001b[43m \u001b[49m\u001b[43m*\u001b[49m\u001b[43margs\u001b[49m\u001b[43m)\u001b[49m)\n",
      "\u001b[36mFile \u001b[39m\u001b[32m/usr/lib/python3.12/imaplib.py:1008\u001b[39m, in \u001b[36mIMAP4._command\u001b[39m\u001b[34m(self, name, *args)\u001b[39m\n\u001b[32m   1006\u001b[39m     \u001b[38;5;28mself\u001b[39m.send(data + CRLF)\n\u001b[32m   1007\u001b[39m \u001b[38;5;28;01mexcept\u001b[39;00m \u001b[38;5;167;01mOSError\u001b[39;00m \u001b[38;5;28;01mas\u001b[39;00m val:\n\u001b[32m-> \u001b[39m\u001b[32m1008\u001b[39m     \u001b[38;5;28;01mraise\u001b[39;00m \u001b[38;5;28mself\u001b[39m.abort(\u001b[33m'\u001b[39m\u001b[33msocket error: \u001b[39m\u001b[38;5;132;01m%s\u001b[39;00m\u001b[33m'\u001b[39m % val)\n\u001b[32m   1010\u001b[39m \u001b[38;5;28;01mif\u001b[39;00m literal \u001b[38;5;129;01mis\u001b[39;00m \u001b[38;5;28;01mNone\u001b[39;00m:\n\u001b[32m   1011\u001b[39m     \u001b[38;5;28;01mreturn\u001b[39;00m tag\n",
      "\u001b[31mabort\u001b[39m: socket error: [Errno 9] Bad file descriptor"
     ]
    }
   ],
   "source": [
    "imap.conn.logout()"
   ]
  }
 ],
 "metadata": {
  "kernelspec": {
   "display_name": "studies",
   "language": "python",
   "name": "studies"
  },
  "language_info": {
   "codemirror_mode": {
    "name": "ipython",
    "version": 3
   },
   "file_extension": ".py",
   "mimetype": "text/x-python",
   "name": "python",
   "nbconvert_exporter": "python",
   "pygments_lexer": "ipython3",
   "version": "3.12.3"
  }
 },
 "nbformat": 4,
 "nbformat_minor": 5
}
